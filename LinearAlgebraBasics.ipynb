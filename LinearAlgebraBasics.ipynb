{
 "cells": [
  {
   "cell_type": "code",
   "execution_count": null,
   "metadata": {},
   "outputs": [],
   "source": []
  },
  {
   "cell_type": "markdown",
   "metadata": {},
   "source": [
    "# Table of Content\n",
    "\n",
    "[Linear Algebra](#LinerAlgebra)\n",
    "\n",
    "* [Introduction](#Introduction)\n",
    "\t* [Linear Algebra In Machine Learning](#LinearAlgebraInMachineLearning)\n",
    "\t* [Datasets](#Datasets)\n",
    "\t* [Images](#Images)\n",
    "\t* [Encoding](#Encoding)\n",
    "\t* [Recommendation Systems](#RecommendationSystems)\n",
    "\t* [Deep Learning](#DeepLearning)\n",
    "\t* [Other](#Other)\n",
    "\n",
    "* [Fundamental Objects Of The Linear Algebra](#FundamentalObjectsOfTheLinearAlgebra)\n",
    "\n",
    "\t* [Scalars](#Scalars)\n",
    "\t* [Vectors](#Vectors)\n",
    "\t* [Matrices](#Matrices)\n",
    "   \n",
    "* [Vectors Arithmetic](#VectorsArithmetic)\n",
    "\n",
    "\t* [Scalar Operations On Vectors](#ScalarOperationsOnVectors)\n",
    "\t* [Elementwise Operations On Vectors](#ElementwiseOperationsOnVectors)\n",
    "\t* [Vector Addition](#VectorAddition)\n",
    "\t* [Vector Subtraction](#VectorSubtraction)\n",
    "\t* [Vector Multiplication](#VectorMultiplication)\n",
    "\t* [Vector Division](#VectorDivision)\n",
    "\t* [Dot Product On Vectors](#DotProductOnVectors)\n",
    "\n",
    "* [Matrices And Matrix Arithmetic](#MatricesAndMatrixArithmetic)\n",
    "\n",
    "\t* [Scalar Operations On Matrices](#ScalarOperationsOnMatrices)\n",
    "\t* [Elementwise Operations On Matrices](#ElementwiseOperationsOnMatrices)\n",
    "\t* [Matrix Addition](#MatrixAddition)\n",
    "\t* [Matrix Subtraction](#MatrixSubtraction)\n",
    "\t* [Matrix Multiplication(Element-wise)](#MatrixMultiplicationElement-wise)\n",
    "\t* [Matrix Division](#MatrixDivision)\n",
    "\t* [Matrix Multiplication(Matrix Dot Product)](#MatrixDotProduct)\n",
    "    * [Matrix-Vector Multiplication](#MatrixVectorMultiplication)\n",
    "    \n",
    "\n",
    "* [Tensor Arithmetic](#TensorArithmetic)\n",
    "\n",
    "\t* [Tensor Addition](#TensorAddition)\n",
    "\t* [Tensor Subtraction](#TensorSubtraction)\n",
    "\t* [Tensor Multiplication](#TensorMultiplication)\n",
    "\t* [Tensor Division](#TensorDivision)\n",
    "\n",
    "\n",
    "\n",
    "\n",
    "\n",
    "# <a id=\"LinearAlgebra\"></a>Linear Algebra\n",
    "\n",
    "## <a id=\"LinearAlgebra\"></a>Introduction\n",
    "\n",
    "Linear algebra is a form of mathematics, which is basis for many Machine Learning algorithms, especially Deep Learning algorithms. Good understanding of linear algebra is crucial for understanding and working in the field of the Machine and Deep Learning.\n",
    "\n",
    "Linear Algebra is a relatively young field of study, formalized in the 1800s in order to find unknowns in systems of linear equations. Linear Algebra is applied in a science and engineering and it is essence of the areas in mathematics like geometry and functional analysis. \n",
    "\n",
    "Linear Algebra is used in many domains like:\n",
    "\n",
    "* Graphs and Networks analysis \n",
    "* Population growth analysis\n",
    "* Linear Programming, the simplex optimization method\n",
    "* Fourier Series, signal processing\n",
    "* Statistics and probability, least squares for regression\n",
    "* Computer Graphics, such as the translation, rescaling and rotation of images\n",
    "\n",
    "\n",
    "### <a id=\"LinearAlgebraInMachineLearning\"></a>Linear Algebra In Machine Learning\n",
    "\n",
    "Linear Algebra is foundation for the Machine Learning. Datasets, images, one hot encodings, deep learning algortihms are based on the principles of the Linear Algebra. Let's see some common examples: \n",
    "\n",
    "### <a id=\"Datasets\"></a>Datasets\n",
    "\n",
    "In Machine Learning, it is common that model is build based on a dataset. Dataset is very often table with rows and columns, \n",
    "where each row represents an observation and column represents a feature of the observation. For example below is part of the\n",
    "dataset from bank which contains historical behavior of the customers(***Customer Churn Prediction***):\n",
    "\n",
    "\n",
    "| RowNumber |CustomerId | Surname | CreditScore | Geography |Gender | Age | Exited |\n",
    "|-----------|-----------|---------|-------------|-----------|-------|-----|--------|\n",
    "| 1         | 15634602  | Hargrave| 619         | France    | Female| 42  | 1      |\n",
    "| 2         | 15647311  | Hill    | 608         | Spain     | Female| 41  | 0      |\n",
    "| 3         | 15619304  | Onio    | 502         | France    | Female| 42  | 1      |\n",
    "| 4         | 15701354  | Boni    | 699         | France    | Female| 39  | 0      |\n",
    "| 5         | 15737888  | Mitchell| 850         | Spain     | Female| 43  | 0      |\n",
    "| 6         | 15574012  | Chu     | 645         | Spain     | Male  | 44  | 1      |\n",
    "\n",
    "\n",
    "As you can see, dataset is in fact an matrix, which is key data structure in Linear Algebra. Last column shows information did customer leaved the bank or not, and if we extract last column in separated dataset, we will have vector which is another important data structure in Linear Algebra.\n",
    "\n",
    "\n",
    "### <a id=\"Images\"></a>Images\n",
    "\n",
    "Image consist of a set of the pixels. For a grayscale image each pixel is a scalar value from 0 to 255. Image has widht and height, so grayscale image is represented as matrix. \n",
    "Color images has one matrix per color(Red, Green, Blue), so here we are talking about tensor with 3 dimension.\n",
    "\n",
    "Operations on the image, such as cropping, scaling, rotating are described using linear algebra.\n",
    "\n",
    "\n",
    "![Image](course/assets/image/image.png)\n",
    "\n",
    "\n",
    "### <a id=\"Encoding\"></a>Encoding\n",
    "\n",
    "As you can see in ***Customer Churn Prediction***, not all values in dataset is numerical, some values can be defined as text, for example columns ***Geography*** and ***Gender***.***Gender*** has values 0 or 1, and can be encoded as Label Encoder in classes 0 or 1. \n",
    "\n",
    "***Geography*** column is a text which show a countries. If we apply same approach as we did ***Gender*** column, countries will be defined as 0, 1, 2 etc. This is not right approach, therefore in such a cases we can use One Hot Encoder. But at the end numerical values will replace text values.\n",
    "\n",
    "\n",
    "### <a id=\"RecommendationSystems\"></a>Recommendation Systems\n",
    "\n",
    "If you go to popular web sites like Amazon or Netflix and if you search for some items, site will recommend similar item based on yours previous activities. The development of Recommendation systems is primarily, based on linear algebra. \n",
    "\n",
    "A simple example is in the calculation of the similarity between customers behaviors, vectors using distance measures such as Euclidean distance or dot products are used.\n",
    "\n",
    "\n",
    "![Amazon Recommendation System](course/assets/image/amazonrecommendationsystem.jpg)\n",
    "\n",
    "\n",
    "### <a id=\"DeepLearning\"></a>Deep Learning\n",
    "\n",
    "\n",
    "In Deep Learning, Neural Networks consists of the neurons, and neurons are defined with perceptron model. Model takes an inputs, aggregates it (weighted sum) and returns 1 only if the aggregated sum is more than some threshold else returns 0. Model is implemented using Linera Algebra operations such as add, multiply, subtract, etc.\n",
    "\n",
    "![Neuron](course/assets/image/neuron.png)\n",
    "\n",
    "Linear algebra provides the first steps into vectorisation, presenting a deeper way of thinking about parallelisation of certain operations. Algorithms written in standard 'for-loop' notation can be reformulated as matrix equations providing significant gains in computational efficiency.\n",
    "\n",
    "Such methods are used in the major Python libraries such as NumPy, SciPy, Scikit-Learn, Pandas and Tensorflow. \n",
    "GPUs have been designed to carry out optimised linear algebra operations. The explosive growth in Deep Learning can partially be attributed to the highly parallelised nature of the \n",
    "underlying algorithms on commodity GPU hardware.\n",
    "\n",
    "![Neural Network](course/assets/image/neuralnetwork.png)\n",
    "\n",
    "\n",
    "### <a id=\"Other\"></a>Other\n",
    "\n",
    "In addition to mantioned examples, Linear Algebra is used in many additional cases like Linear Regression, Machine Learning regularization, Principal Component Analisys, Singular Value Decomposition, etc.\n",
    "\n",
    "\n",
    "\n",
    "## <a id=\"FundamentalObjectsOfTheLinearAlgebra\"></a>Fundamental Objects Of The Linear Algebra\n",
    "\n",
    "The fundamental objects in Linear Algebra are \n",
    "* Scalars   \n",
    "* Vectors   \n",
    "* Matrices   \n",
    "* Tensors\n",
    "\n",
    "So, let's dig deeper in fundamental Linear Algebra objects\n",
    "\n",
    "![Fundamental objects of the Linear Algebra](course/assets/image/la-objects.jpeg)\n",
    "\n",
    "\n",
    "### <a id=\"Scalars\"></a>Scalars\n",
    "\n",
    "Scalar is a single number. Scalar is example of a 0th-order tensor.   \n",
    "Python built-in scalar types are int, float, complex, bytes, Unicode. \n",
    "\n",
    "\n",
    "In NumPy, there are 24 fundamental data types which are described in NumPy section.\n",
    "\n",
    "We can declare two variables of type int and float using standard Python notation and check with NumPy are those variables scalars or not:\n"
   ]
  },
  {
   "cell_type": "code",
   "execution_count": 42,
   "metadata": {},
   "outputs": [
    {
     "name": "stdout",
     "output_type": "stream",
     "text": [
      "True\n",
      "True\n"
     ]
    }
   ],
   "source": [
    "import numpy as np\n",
    "\n",
    "x = 1.0\n",
    "y = 1\n",
    "\n",
    "print(np.isscalar(x))\n",
    "print(np.isscalar(y))"
   ]
  },
  {
   "cell_type": "markdown",
   "metadata": {},
   "source": [
    "### <a id=\"Vectors\"></a>Vectors\n",
    "\n",
    "A vector is a one dimensional list or array of single numbers and is an example of 1st-order tensor. \n",
    "Vector is a matrix with a single column or a row. Vector has single index which points to specific value within the Vector.\n",
    "\n",
    "**v** $= \\begin{pmatrix}\n",
    "10 \\\\\n",
    "20 \\\\\n",
    "30 \\\\\n",
    "\\end{pmatrix}$\n",
    "\n",
    "Vector can be declared in Python on a few ways:\n",
    "Simpliest is with Python regular list:"
   ]
  },
  {
   "cell_type": "code",
   "execution_count": 43,
   "metadata": {},
   "outputs": [
    {
     "data": {
      "text/plain": [
       "[0, 1, 2, 3, 4, 5, 6, 7, 8, 9]"
      ]
     },
     "execution_count": 43,
     "metadata": {},
     "output_type": "execute_result"
    }
   ],
   "source": [
    "[0, 1, 2, 3, 4, 5, 6, 7, 8, 9]"
   ]
  },
  {
   "cell_type": "markdown",
   "metadata": {},
   "source": [
    "***NumPy*** can be used as well:"
   ]
  },
  {
   "cell_type": "code",
   "execution_count": 44,
   "metadata": {},
   "outputs": [
    {
     "name": "stdout",
     "output_type": "stream",
     "text": [
      "[0 1 2 3 4 5 6 7 8 9]\n",
      "[0 1 2 3 4 5 6 7 8 9]\n",
      "[10, 20, 30]\n"
     ]
    }
   ],
   "source": [
    "x = np.arange(10)\n",
    "print(x)\n",
    "\n",
    "y = np.array([0, 1, 2, 3, 4, 5, 6, 7, 8, 9])\n",
    "print(y)\n",
    "\n",
    "z = [10, 20, 30]\n",
    "print(z)\n"
   ]
  },
  {
   "cell_type": "markdown",
   "metadata": {},
   "source": [
    "The size of a vector can be obtained using the size attribute:"
   ]
  },
  {
   "cell_type": "code",
   "execution_count": 45,
   "metadata": {},
   "outputs": [
    {
     "name": "stdout",
     "output_type": "stream",
     "text": [
      "10\n"
     ]
    }
   ],
   "source": [
    "print(x.size)"
   ]
  },
  {
   "cell_type": "markdown",
   "metadata": {},
   "source": [
    "Element of the vector can be accessed using index syntax:   \n",
    "Note that indices in mathematics generally start at 1, but in programming they usually start at 0."
   ]
  },
  {
   "cell_type": "code",
   "execution_count": 46,
   "metadata": {},
   "outputs": [
    {
     "name": "stdout",
     "output_type": "stream",
     "text": [
      "0\n",
      "1\n",
      "9\n",
      "30\n"
     ]
    }
   ],
   "source": [
    "print(x[0]) # 1st element\n",
    "print(y[1]) # 2nd elemen\n",
    "print(y[9]) # 10th element\n",
    "print(z[2]) # 3rd element\n"
   ]
  },
  {
   "cell_type": "markdown",
   "metadata": {},
   "source": [
    "The $i^{th}$ element (also called *entry* or *item*) of a vector $\\textbf{v}$ is noted $\\textbf{v}_i$."
   ]
  },
  {
   "cell_type": "markdown",
   "metadata": {},
   "source": [
    "#### Ploting the Vector\n",
    "\n",
    "Vectors can be presented in a space, we will use ***matplotlib*** for ploting.\n",
    "\n",
    "First we will show how to plot 2D vectors.\n",
    "2D vectors can easily be presented graphically on a 2D graph, for example as points:"
   ]
  },
  {
   "cell_type": "code",
   "execution_count": 47,
   "metadata": {},
   "outputs": [],
   "source": [
    "#import matplotlib\n",
    "%matplotlib inline\n",
    "import matplotlib.pyplot as plt"
   ]
  },
  {
   "cell_type": "markdown",
   "metadata": {},
   "source": [
    "Define two 2D vectors and plot it:"
   ]
  },
  {
   "cell_type": "code",
   "execution_count": 48,
   "metadata": {},
   "outputs": [
    {
     "data": {
      "image/png": "[encoded data removed]",
      "text/plain": [
       "<Figure size 432x288 with 1 Axes>"
      ]
     },
     "metadata": {
      "needs_background": "light"
     },
     "output_type": "display_data"
    }
   ],
   "source": [
    "u = np.array([1, 2])\n",
    "v = np.array([4, 3])\n",
    "\n",
    "x_coords, y_coords = zip(u, v)\n",
    "plt.scatter(x_coords, y_coords, color=[\"r\",\"b\"])\n",
    "plt.axis([0, 5, 0, 5])\n",
    "plt.grid()\n",
    "plt.show()"
   ]
  },
  {
   "cell_type": "markdown",
   "metadata": {},
   "source": [
    "Vectors can also be represented as arrows. Let's create a simple function to draw arrows:"
   ]
  },
  {
   "cell_type": "code",
   "execution_count": 49,
   "metadata": {},
   "outputs": [],
   "source": [
    "def plot_vector2d(vector2d, origin=[0, 0], **options):\n",
    "    return plt.arrow(origin[0], origin[1], vector2d[0], vector2d[1],\n",
    "              head_width=0.2, head_length=0.3, length_includes_head=True,\n",
    "              **options)"
   ]
  },
  {
   "cell_type": "markdown",
   "metadata": {},
   "source": [
    "Now we will plot a 2D vector:"
   ]
  },
  {
   "cell_type": "code",
   "execution_count": 50,
   "metadata": {},
   "outputs": [
    {
     "data": {
      "image/png": "[encoded data removed]",
      "text/plain": [
       "<Figure size 432x288 with 1 Axes>"
      ]
     },
     "metadata": {
      "needs_background": "light"
     },
     "output_type": "display_data"
    }
   ],
   "source": [
    "plot_vector2d(u, color=\"r\")\n",
    "plot_vector2d(v, color=\"b\")\n",
    "plt.axis([0, 5, 0, 5])\n",
    "plt.grid()\n",
    "plt.show()"
   ]
  },
  {
   "cell_type": "markdown",
   "metadata": {},
   "source": [
    "3D vectors can be plotted as well. First let's create twp 3D vectors:"
   ]
  },
  {
   "cell_type": "code",
   "execution_count": 51,
   "metadata": {},
   "outputs": [
    {
     "data": {
      "image/png": "[encoded data removed]",
      "text/plain": [
       "<Figure size 432x288 with 1 Axes>"
      ]
     },
     "metadata": {
      "needs_background": "light"
     },
     "output_type": "display_data"
    }
   ],
   "source": [
    "from mpl_toolkits.mplot3d import Axes3D\n",
    "\n",
    "a = np.array([1, 2, 3])\n",
    "b = np.array([4, 5, 6])\n",
    "\n",
    "# plot the 3D vectors\n",
    "\n",
    "subplot3d = plt.subplot(111, projection='3d')\n",
    "x_coords, y_coords, z_coords = zip(a,b)\n",
    "subplot3d.scatter(x_coords, y_coords, z_coords)\n",
    "subplot3d.set_zlim3d([0, 9])\n",
    "plt.show()\n"
   ]
  },
  {
   "cell_type": "markdown",
   "metadata": {},
   "source": [
    "It is a bit hard to visualize exactly where in space these two points are, so let's add vertical lines."
   ]
  },
  {
   "cell_type": "code",
   "execution_count": 52,
   "metadata": {},
   "outputs": [
    {
     "data": {
      "image/png": "[encoded data removed]",
      "text/plain": [
       "<Figure size 432x288 with 1 Axes>"
      ]
     },
     "metadata": {
      "needs_background": "light"
     },
     "output_type": "display_data"
    }
   ],
   "source": [
    "def plot_vectors3d(ax, vectors3d, z0, **options):\n",
    "    for v in vectors3d:\n",
    "        x, y, z = v\n",
    "        ax.plot([x,x], [y,y], [z0, z], color=\"gray\", linestyle='dotted', marker=\".\")\n",
    "    x_coords, y_coords, z_coords = zip(*vectors3d)\n",
    "    ax.scatter(x_coords, y_coords, z_coords, **options)\n",
    "\n",
    "subplot3d = plt.subplot(111, projection='3d')\n",
    "subplot3d.set_zlim([0, 9])\n",
    "plot_vectors3d(subplot3d, [a,b], 0, color=(\"r\",\"b\"))\n",
    "plt.show()\n"
   ]
  },
  {
   "cell_type": "markdown",
   "metadata": {},
   "source": [
    "### <a id=\"Matrices\"></a>Matrices\n",
    "\n",
    "Matrix is two dimensional array of numbers and is an example of 2nd-order tensors. \n",
    "Matrix has two indexes, first one points to the row and the second one to the column. \n",
    "A Matrix can have multiple numbers of rows and columns. \n",
    "Dimensions of a matrix is described in terms of rows and columns.\n",
    "\n",
    "\\begin{bmatrix} 10 & 20 & 30 \\\\ 40 & 50 & 60 \\end{bmatrix}\n",
    "\n",
    "\n",
    "Vector is a Matrix as well, but with only one row or one column.\n",
    "\n",
    "\n",
    "\\begin{bmatrix} 10 \\\\ 60 \\end{bmatrix}\n",
    "\n",
    "\n",
    "In Python, we use NumPy(NumPy arrays (***type ndarray***)) in order to create n-dimensional arrays. \n",
    "N-dimensional arrays are basically matrices, so we use matrix method and pass in the lists and thereby defining a matrix.\n"
   ]
  },
  {
   "cell_type": "code",
   "execution_count": 53,
   "metadata": {},
   "outputs": [
    {
     "name": "stdout",
     "output_type": "stream",
     "text": [
      "[[0 1 2]\n",
      " [3 4 5]\n",
      " [6 7 8]]\n",
      "(3, 3)\n",
      "[[1 2 3]\n",
      " [4 5 6]]\n"
     ]
    }
   ],
   "source": [
    "A = np.arange(9).reshape(3,3)\n",
    "\n",
    "print(A)\n",
    "print(A.shape)\n",
    "\n",
    "B = np.array([\n",
    " [1,2,3], \n",
    " [4,5,6]\n",
    "])\n",
    "\n",
    "print(B)\n"
   ]
  },
  {
   "cell_type": "markdown",
   "metadata": {},
   "source": [
    "By convention matrices generally have uppercase names, such as  ***A*** .\n"
   ]
  },
  {
   "cell_type": "markdown",
   "metadata": {},
   "source": [
    "\n",
    "The size of a matrix is defined by its number of ***rows*** and ***number*** of columns. It is noted  **rows×columns**. \n",
    "For example, the matrix  B above is an example of a  2×3  matrix: 2 rows, 3 columns. \n",
    "\n",
    "To get a matrix's size in NumPy:"
   ]
  },
  {
   "cell_type": "code",
   "execution_count": 54,
   "metadata": {},
   "outputs": [
    {
     "name": "stdout",
     "output_type": "stream",
     "text": [
      "(2, 3)\n"
     ]
    }
   ],
   "source": [
    "print(B.shape)"
   ]
  },
  {
   "cell_type": "markdown",
   "metadata": {},
   "source": [
    "Element of the matrix can be accessed using syntax:"
   ]
  },
  {
   "cell_type": "code",
   "execution_count": 55,
   "metadata": {},
   "outputs": [
    {
     "name": "stdout",
     "output_type": "stream",
     "text": [
      "0\n",
      "2\n"
     ]
    }
   ],
   "source": [
    "firstMatrixElement = A[0][0]\n",
    "print(firstMatrixElement)\n",
    "\n",
    "print(B[0][1])\n"
   ]
  },
  {
   "cell_type": "markdown",
   "metadata": {},
   "source": [
    "The number located in the $i^{th}$ row, and $j^{th}$ column of a matrix $X$ is sometimes noted $X_{i,j}$ or $X_{ij}$, but there is no standard notation, so people often prefer to explicitely name the elements, like this: \"*let $X = (x_{i,j})_{1 ≤ i ≤ m, 1 ≤ j ≤ n}$*\". This means that $X$ is equal to:\n",
    "\n",
    "$X = \\begin{bmatrix}\n",
    "  x_{1,1} & x_{1,2} & x_{1,3} & \\cdots & x_{1,n}\\\\\n",
    "  x_{2,1} & x_{2,2} & x_{2,3} & \\cdots & x_{2,n}\\\\\n",
    "  x_{3,1} & x_{3,2} & x_{3,3} & \\cdots & x_{3,n}\\\\\n",
    "  \\vdots & \\vdots & \\vdots & \\ddots & \\vdots \\\\\n",
    "  x_{m,1} & x_{m,2} & x_{m,3} & \\cdots & x_{m,n}\\\\\n",
    "\\end{bmatrix}$\n",
    "\n",
    "However in this tutorial we will use the $X_{i,j}$ notation, as it matches fairly well NumPy's notation. Note that in math indices generally start at 1, but in programming they usually start at 0. So to access $A_{2,3}$ programmatically, we need to write this:"
   ]
  },
  {
   "cell_type": "code",
   "execution_count": 56,
   "metadata": {},
   "outputs": [
    {
     "data": {
      "text/plain": [
       "5"
      ]
     },
     "execution_count": 56,
     "metadata": {},
     "output_type": "execute_result"
    }
   ],
   "source": [
    "A[1,2]  # 1st row, 3rd column"
   ]
  },
  {
   "cell_type": "markdown",
   "metadata": {},
   "source": [
    "By accessing specific row or column, we can get a vector, as follows:"
   ]
  },
  {
   "cell_type": "code",
   "execution_count": 57,
   "metadata": {},
   "outputs": [
    {
     "data": {
      "text/plain": [
       "array([0, 1, 2])"
      ]
     },
     "execution_count": 57,
     "metadata": {},
     "output_type": "execute_result"
    }
   ],
   "source": [
    "A[0, :]  # 2nd row vector (as a 1D array)"
   ]
  },
  {
   "cell_type": "code",
   "execution_count": 58,
   "metadata": {},
   "outputs": [
    {
     "data": {
      "text/plain": [
       "array([2, 5, 8])"
      ]
     },
     "execution_count": 58,
     "metadata": {},
     "output_type": "execute_result"
    }
   ],
   "source": [
    "A[:, 2]  # 2nd column vector (as a 1D array)"
   ]
  },
  {
   "cell_type": "code",
   "execution_count": 59,
   "metadata": {},
   "outputs": [
    {
     "data": {
      "text/plain": [
       "array([[3, 4, 5]])"
      ]
     },
     "execution_count": 59,
     "metadata": {},
     "output_type": "execute_result"
    }
   ],
   "source": [
    "A[1:2, :]  # rows 2 to 3 (excluded): this returns row 2 as a one-row matrix"
   ]
  },
  {
   "cell_type": "code",
   "execution_count": 60,
   "metadata": {},
   "outputs": [
    {
     "data": {
      "text/plain": [
       "array([[2],\n",
       "       [5],\n",
       "       [8]])"
      ]
     },
     "execution_count": 60,
     "metadata": {},
     "output_type": "execute_result"
    }
   ],
   "source": [
    "A[:, 2:3]  # columns 3 to 4 (excluded): this returns column 3 as a one-column matrix"
   ]
  },
  {
   "cell_type": "markdown",
   "metadata": {},
   "source": [
    "Of, course we can access inner matrix as well, with following syntax:"
   ]
  },
  {
   "cell_type": "code",
   "execution_count": 61,
   "metadata": {},
   "outputs": [
    {
     "data": {
      "text/plain": [
       "array([[0, 1, 2],\n",
       "       [3, 4, 5]])"
      ]
     },
     "execution_count": 61,
     "metadata": {},
     "output_type": "execute_result"
    }
   ],
   "source": [
    "A[0:2, :]  # rows 1 to 3 (excluded): this returns matrix with 2 rows and 3 columns"
   ]
  },
  {
   "cell_type": "code",
   "execution_count": 62,
   "metadata": {},
   "outputs": [
    {
     "data": {
      "text/plain": [
       "array([[1, 2],\n",
       "       [4, 5],\n",
       "       [7, 8]])"
      ]
     },
     "execution_count": 62,
     "metadata": {},
     "output_type": "execute_result"
    }
   ],
   "source": [
    "A[:, 1:3]  # columns 2 to 4 (excluded): this returns matrix with 3 rows and 2 columns"
   ]
  },
  {
   "cell_type": "markdown",
   "metadata": {},
   "source": [
    "#### Ploting the Matrices\n",
    "\n",
    "We have already shown that vectors can been represented as points or arrows in N-dimensional space. \n",
    "What about matrices?   \n",
    "\n",
    "Since matrix can be seen as a list of vectors, plotting a matrix results in ploting many points or arrows. \n",
    "For example, let's create a  2×4  matrix P and plot it as points:"
   ]
  },
  {
   "cell_type": "code",
   "execution_count": 63,
   "metadata": {},
   "outputs": [
    {
     "data": {
      "image/png": "[encoded data removed]",
      "text/plain": [
       "<Figure size 432x288 with 1 Axes>"
      ]
     },
     "metadata": {
      "needs_background": "light"
     },
     "output_type": "display_data"
    }
   ],
   "source": [
    "P = np.array([\n",
    "        [3.0, 4.0, 1.0, 4.6],\n",
    "        [0.2, 3.5, 2.0, 0.5]\n",
    "    ])\n",
    "x_coords_P, y_coords_P = P\n",
    "plt.scatter(x_coords_P, y_coords_P)\n",
    "plt.axis([0, 5, 0, 4])\n",
    "plt.show()"
   ]
  },
  {
   "cell_type": "markdown",
   "metadata": {},
   "source": [
    "### <a id=\"Tensors\"></a>Tensors\n",
    "\n",
    "Tensor is a multidimensional array of numbers, arranged on a regular grid, with a variable number of axes. \n",
    "A Tensor has three indexes, first one points to the row, the second to the column and the third one to the axis. \n",
    "\n",
    "Tensor is the most general term for all of mentioned concepts, because a Tensor can be a Vector and a Matrix, \n",
    "depending on the number of indexes it has. \n",
    "\n",
    "In Python, we use NumPy in order to create n-dimensional arrays. \n"
   ]
  },
  {
   "cell_type": "code",
   "execution_count": 64,
   "metadata": {},
   "outputs": [
    {
     "name": "stdout",
     "output_type": "stream",
     "text": [
      "[[[ 1  2  3]\n",
      "  [ 4  5  6]\n",
      "  [ 7  8  9]]\n",
      "\n",
      " [[11 12 13]\n",
      "  [14 15 16]\n",
      "  [17 18 19]]\n",
      "\n",
      " [[21 22 23]\n",
      "  [24 25 26]\n",
      "  [27 28 29]]]\n",
      "(3, 3, 3)\n"
     ]
    }
   ],
   "source": [
    "t = np.array([\n",
    "  [[1,2,3],    [4,5,6],    [7,8,9]],\n",
    "  [[11,12,13], [14,15,16], [17,18,19]],\n",
    "  [[21,22,23], [24,25,26], [27,28,29]],\n",
    "  ])\n",
    "\n",
    "print(t)\n",
    "print(t.shape)"
   ]
  },
  {
   "cell_type": "markdown",
   "metadata": {},
   "source": [
    "Element of the tensor can be accessed as follows:"
   ]
  },
  {
   "cell_type": "code",
   "execution_count": 65,
   "metadata": {},
   "outputs": [
    {
     "name": "stdout",
     "output_type": "stream",
     "text": [
      "[[1 2 3]\n",
      " [4 5 6]\n",
      " [7 8 9]]\n",
      "[1 2 3]\n",
      "1\n"
     ]
    }
   ],
   "source": [
    "print(t[0])\n",
    "print(t[0][0])\n",
    "print(t[0][0][0])"
   ]
  },
  {
   "cell_type": "markdown",
   "metadata": {},
   "source": [
    "## <a id=\"VectorsArithmetic\"></a>Vectors Arithmetic\n",
    "\n",
    "### <a id=\"ScalarOperationsOnVectors\"></a>Scalar Operations On Vectors\n",
    "\n",
    "Scalar operations involve a vector and a number(scalar). \n",
    "Vector can be modified by adding, subtracting, or multiplying the number(scalar) from all the values in the vector.\n",
    "\n",
    "The multiplication is prefomed on each element of the vector to result in a new scaled vector of same length.\n",
    "\n",
    "***c = s * v***\n",
    "\n",
    "Now for a given scalar ***s*** if we have vector ***v*** with 3 elements:\n",
    "\n",
    "***s = 10***\n",
    "\n",
    "\n",
    "**v** $=  \\begin{pmatrix}\n",
    "1 \\\\\n",
    "2 \\\\\n",
    "3 \\\\\n",
    "\\end{pmatrix}$\n",
    "\n",
    "resulting vector ***c*** will be:\n",
    "\n",
    "**c** $= 10 * \\begin{pmatrix}\n",
    "1\\\\\n",
    "2\\\\\n",
    "3\\\\\n",
    "\\end{pmatrix}$ \n",
    "= $  \n",
    "\\begin{pmatrix}\n",
    "10 * 1\\\\\n",
    "10 * 2\\\\\n",
    "10 * 3\\\\\n",
    "\\end{pmatrix}$ = $\n",
    "\\begin{pmatrix}\n",
    "10\\\\\n",
    "20\\\\\n",
    "30\\\\\n",
    "\\end{pmatrix}$\n",
    "\n",
    "\n",
    "or on another way:   \n",
    "\n",
    "***c[0] = v[0] * s***   \n",
    "***c[1] = v[1] * s***   \n",
    "***c[2] = v[2] * s***   \n",
    "\n",
    "\n",
    "\n",
    "Same rule is used for addition, substraction and division.\n",
    "\n",
    "**c** $= 10 + \\begin{pmatrix}\n",
    "1\\\\\n",
    "2\\\\\n",
    "3\\\\\n",
    "\\end{pmatrix}$ \n",
    "= $  \n",
    "\\begin{pmatrix}\n",
    "10 + 1\\\\\n",
    "10 + 2\\\\\n",
    "10 + 3\\\\\n",
    "\\end{pmatrix}$ = $\n",
    "\\begin{pmatrix}\n",
    "11\\\\\n",
    "12\\\\\n",
    "13\\\\\n",
    "\\end{pmatrix}$\n",
    "\n",
    "**c** $= 10 - \\begin{pmatrix}\n",
    "1\\\\\n",
    "2\\\\\n",
    "3\\\\\n",
    "\\end{pmatrix}$ \n",
    "= $  \n",
    "\\begin{pmatrix}\n",
    "10 - 1\\\\\n",
    "10 - 2\\\\\n",
    "10 - 3\\\\\n",
    "\\end{pmatrix}$ = $\n",
    "\\begin{pmatrix}\n",
    "9\\\\\n",
    "8\\\\\n",
    "7\\\\\n",
    "\\end{pmatrix}$\n",
    "\n",
    "**c** $= 30 / \\begin{pmatrix}\n",
    "1\\\\\n",
    "2\\\\\n",
    "3\\\\\n",
    "\\end{pmatrix}$ \n",
    "= $  \n",
    "\\begin{pmatrix}\n",
    "30 / 1\\\\\n",
    "30 / 2\\\\\n",
    "30 / 3\\\\\n",
    "\\end{pmatrix}$ = $\n",
    "\\begin{pmatrix}\n",
    "30.\\\\\n",
    "15.\\\\\n",
    "10\\\\\n",
    "\\end{pmatrix}$\n",
    "\n",
    "Let's see example with NumPy:"
   ]
  },
  {
   "cell_type": "code",
   "execution_count": 66,
   "metadata": {},
   "outputs": [
    {
     "name": "stdout",
     "output_type": "stream",
     "text": [
      "[1 2 3]\n",
      "(3,)\n",
      "[10 20 30]\n",
      "[11 12 13]\n",
      "[9 8 7]\n",
      "[30. 15. 10.]\n",
      "[11 12 13]\n",
      "[-9 -8 -7]\n",
      "[10 20 30]\n",
      "[0.03333333 0.06666667 0.1       ]\n"
     ]
    }
   ],
   "source": [
    "a = np.array([1,2,3])\n",
    "\n",
    "print(a)\n",
    "print(a.shape)\n",
    "\n",
    "print(10 * a) # output [10 20 30]\n",
    "print(10 + a) # output [11 12 13]\n",
    "print(10 - a) # output [9 8 7]\n",
    "print(30 / a) # output [30. 15. 10]\n",
    "\n",
    "print(a + 10) # output [11 12 13]\n",
    "print(a - 10) # output [-9 -8 -7]\n",
    "print(a * 10) # output [10 20 30]\n",
    "\n",
    "print(a / 30) # output [0.0333. 0.066 0.1]"
   ]
  },
  {
   "cell_type": "markdown",
   "metadata": {},
   "source": [
    "### <a id=\"ElementwiseOperationsOnVectors\"></a>Elementwise Operations On Vectors\n",
    "\n",
    "In elementwise operations like addition, subtraction, and division, values that correspond positionally are combined to produce a new vector. \n",
    "The 1st value in vector A is paired with the 1st value in vector B. The 2nd value is paired with the 2nd, and so on. \n",
    "This means the vectors must have equal dimensions to complete the operation.\n",
    "\n",
    "### <a id=\"VectorAddition\"></a>Vector Addition\n",
    "\n",
    "Two vectors can be added to create new third vector:\n",
    "\n",
    "***c = a + b***\n",
    "\n",
    "New vector has same shape like other two vectors, result will be:   \n",
    "\n",
    "***c = (a1 + b1, a2 + b2, a3 + b3)***\n",
    "\n",
    "or on another way:   \n",
    "\n",
    "***c[0] = a[0] + b[0]***   \n",
    "***c[1] = a[1] + b[1]***   \n",
    "***c[2] = a[2] + b[2]***   \n",
    "\n",
    "Example:\n",
    "\n",
    "**a** $=  \\begin{pmatrix}\n",
    "1 \\\\\n",
    "2 \\\\\n",
    "3 \\\\\n",
    "\\end{pmatrix}$\n",
    "\n",
    "**b** $=  \\begin{pmatrix}\n",
    "4 \\\\\n",
    "5 \\\\\n",
    "6 \\\\\n",
    "\\end{pmatrix}$\n",
    "\n",
    "**c** $ =  \\begin{pmatrix}\n",
    "1 \\\\\n",
    "2 \\\\\n",
    "3 \\\\\n",
    "\\end{pmatrix}$ + \n",
    "$ \\begin{pmatrix}\n",
    "4 \\\\\n",
    "5 \\\\\n",
    "6 \\\\\n",
    "\\end{pmatrix}$ = $\\begin{pmatrix}\n",
    "1 + 4 \\\\\n",
    "2 + 5 \\\\\n",
    "3 + 6\\\\\n",
    "\\end{pmatrix}$ = $\n",
    "  \\begin{pmatrix}\n",
    "5 \\\\\n",
    "6 \\\\\n",
    "7 \\\\\n",
    "\\end{pmatrix}$\n"
   ]
  },
  {
   "cell_type": "code",
   "execution_count": 67,
   "metadata": {
    "scrolled": true
   },
   "outputs": [
    {
     "name": "stdout",
     "output_type": "stream",
     "text": [
      "[1 2 3] [4 5 6] [5 7 9]\n"
     ]
    }
   ],
   "source": [
    "a = np.array([1,2,3])\n",
    "b = np.array([4,5,6])\n",
    "\n",
    "print(a, b, a + b) # output [5 7 9]\n"
   ]
  },
  {
   "cell_type": "markdown",
   "metadata": {},
   "source": [
    "### <a id=\"VectorSubtraction\"></a>Vector Subtraction\n",
    "\n",
    "One vector can be subtracted from another of equal shape to create new third vector:\n",
    "\n",
    "***c = a - b***\n",
    "\n",
    "New vector has same shape like other two vectors, result will be:   \n",
    "\n",
    "***c = (a1 - b1, a2 - b2, a3 - b3)***\n",
    "\n",
    "or on another way:   \n",
    "\n",
    "***c[0] = a[0] - b[0]***   \n",
    "***c[1] = a[1] - b[1]***   \n",
    "***c[2] = a[2] - b[2]***   \n",
    "\n",
    "Example:\n",
    "\n",
    "**a** $=  \\begin{pmatrix}\n",
    "1 \\\\\n",
    "2 \\\\\n",
    "3 \\\\\n",
    "\\end{pmatrix}$\n",
    "\n",
    "**b** $=  \\begin{pmatrix}\n",
    "4 \\\\\n",
    "5 \\\\\n",
    "6 \\\\\n",
    "\\end{pmatrix}$\n",
    "\n",
    "**c** $ =  \\begin{pmatrix}\n",
    "1 \\\\\n",
    "2 \\\\\n",
    "3 \\\\\n",
    "\\end{pmatrix}$ - \n",
    "$ \\begin{pmatrix}\n",
    "4 \\\\\n",
    "5 \\\\\n",
    "6 \\\\\n",
    "\\end{pmatrix}$ = $\\begin{pmatrix}\n",
    "1 - 4 \\\\\n",
    "2 - 5 \\\\\n",
    "3 - 6\\\\\n",
    "\\end{pmatrix}$ = $\n",
    "  \\begin{pmatrix}\n",
    "-3 \\\\\n",
    "-3 \\\\\n",
    "-3 \\\\\n",
    "\\end{pmatrix}$\n"
   ]
  },
  {
   "cell_type": "code",
   "execution_count": 68,
   "metadata": {},
   "outputs": [
    {
     "name": "stdout",
     "output_type": "stream",
     "text": [
      "[1 2 3] [4 5 6] [-3 -3 -3]\n"
     ]
    }
   ],
   "source": [
    "a = np.array([1,2,3])\n",
    "b = np.array([4,5,6])\n",
    "\n",
    "print(a, b, a - b) # output [-3 -3 -3]"
   ]
  },
  {
   "cell_type": "markdown",
   "metadata": {},
   "source": [
    "### <a id=\"VectorMultiplication\"></a>Vector Multiplication\n",
    "\n",
    "Two vectors of equal shape can be multiplied(Hadamard product) together:\n",
    "\n",
    "***c = a * b***\n",
    "\n",
    "New vector has same shape like other two vectors, result will be:   \n",
    "\n",
    "***c = (a1 * b1, a2 * b2, a3 * b3)***\n",
    "\n",
    "or on another way:   \n",
    "\n",
    "***c[0] = a[0] * b[0]***   \n",
    "***c[1] = a[1] * b[1]***   \n",
    "***c[2] = a[2] * b[2]***   \n",
    "\n",
    "Example:\n",
    "\n",
    "**a** $=  \\begin{pmatrix}\n",
    "1 \\\\\n",
    "2 \\\\\n",
    "3 \\\\\n",
    "\\end{pmatrix}$\n",
    "\n",
    "**b** $=  \\begin{pmatrix}\n",
    "4 \\\\\n",
    "5 \\\\\n",
    "6 \\\\\n",
    "\\end{pmatrix}$\n",
    "\n",
    "**c** $ =  \\begin{pmatrix}\n",
    "1 \\\\\n",
    "2 \\\\\n",
    "3 \\\\\n",
    "\\end{pmatrix}$ * \n",
    "$ \\begin{pmatrix}\n",
    "4 \\\\\n",
    "5 \\\\\n",
    "6 \\\\\n",
    "\\end{pmatrix}$ = $\\begin{pmatrix}\n",
    "1 * 4 \\\\\n",
    "2 * 5 \\\\\n",
    "3 * 6\\\\\n",
    "\\end{pmatrix}$ = $\n",
    "  \\begin{pmatrix}\n",
    "4 \\\\\n",
    "10 \\\\\n",
    "18 \\\\\n",
    "\\end{pmatrix}$\n"
   ]
  },
  {
   "cell_type": "code",
   "execution_count": 69,
   "metadata": {},
   "outputs": [
    {
     "name": "stdout",
     "output_type": "stream",
     "text": [
      "[1 2 3] [4 5 6] [ 4 10 18]\n"
     ]
    }
   ],
   "source": [
    "a = np.array([1,2,3])\n",
    "b = np.array([4,5,6])\n",
    "\n",
    "print(a, b, a * b) # output [4 10 18]"
   ]
  },
  {
   "cell_type": "markdown",
   "metadata": {},
   "source": [
    "### <a id=\"VectorDivision\"></a>Vector Division\n",
    "\n",
    "Two vectors of equal shape can be divided:\n",
    "\n",
    "***c = a / b***\n",
    "\n",
    "New vector has same shape like other two vectors, result will be:   \n",
    "\n",
    "***c = (a1 / b1, a2 / b2, a3 / b3)***\n",
    "\n",
    "or on another way:   \n",
    "\n",
    "***c[0] = a[0] / b[0]***   \n",
    "***c[1] = a[1] / b[1]***   \n",
    "***c[2] = a[2] / b[2]***   \n",
    "\n",
    "Example:\n",
    "\n",
    "**a** $=  \\begin{pmatrix}\n",
    "1 \\\\\n",
    "2 \\\\\n",
    "3 \\\\\n",
    "\\end{pmatrix}$\n",
    "\n",
    "**b** $=  \\begin{pmatrix}\n",
    "1 \\\\\n",
    "2 \\\\\n",
    "3 \\\\\n",
    "\\end{pmatrix}$\n",
    "\n",
    "**c** $ =  \\begin{pmatrix}\n",
    "1 \\\\\n",
    "2 \\\\\n",
    "3 \\\\\n",
    "\\end{pmatrix}$ / \n",
    "$ \\begin{pmatrix}\n",
    "1 \\\\\n",
    "2 \\\\\n",
    "3 \\\\\n",
    "\\end{pmatrix}$ = $\\begin{pmatrix}\n",
    "1 / 1 \\\\\n",
    "2 / 2 \\\\\n",
    "3 / 3\\\\\n",
    "\\end{pmatrix}$ = $\n",
    "  \\begin{pmatrix}\n",
    "1. \\\\\n",
    "1. \\\\\n",
    "1. \\\\\n",
    "\\end{pmatrix}$\n"
   ]
  },
  {
   "cell_type": "code",
   "execution_count": 70,
   "metadata": {},
   "outputs": [
    {
     "name": "stdout",
     "output_type": "stream",
     "text": [
      "[1 2 3] [1 2 3] [1. 1. 1.]\n"
     ]
    }
   ],
   "source": [
    "a = np.array([1,2,3])\n",
    "b = np.array([1,2,3])\n",
    "\n",
    "print(a, b, a / b) # output [1. 1. 1.]"
   ]
  },
  {
   "cell_type": "markdown",
   "metadata": {},
   "source": [
    "\n",
    "\n",
    "### <a id=\"DotProductOnVectors\"></a>Dot Product On Vectors\n",
    "\n",
    "The dot product of two vectors is a scalar. It is sum of the the multiplied elements of two vectors of the same shape.\n",
    "Dot product of vectors and matrices (matrix multiplication) is one of the most important operations in Deep Learning.\n",
    "\n",
    "     \n",
    "\n",
    "\n",
    "New vector has same shape like other two vectors, result will be:   \n",
    "\n",
    "***c = (a1 x b1 + a2 x b2 + a3 x b3)***\n",
    "\n",
    "or on another way:   \n",
    "\n",
    "***c[0] = a[0] x b[0] + a[1] x b[1] + a[2] x b[2]***   \n",
    "\n",
    "Example:\n",
    "\n",
    "**a** $=  \\begin{pmatrix}\n",
    "1 \\\\\n",
    "2 \\\\\n",
    "\\end{pmatrix}$\n",
    "\n",
    "**b** $=  \\begin{pmatrix}\n",
    "3 \\\\\n",
    "4 \\\\\n",
    "\\end{pmatrix}$\n",
    "\n",
    "**c** $ =  \\begin{pmatrix}\n",
    "1 x 3 + 2 x 4 \\\\\n",
    "\\end{pmatrix}$  = \n",
    "$ \\begin{pmatrix}\n",
    "3 + 8 \\\\\n",
    "\\end{pmatrix}$ = $\\begin{pmatrix}\n",
    "11 \\\\\n",
    "\\end{pmatrix}$"
   ]
  },
  {
   "cell_type": "code",
   "execution_count": 71,
   "metadata": {
    "scrolled": true
   },
   "outputs": [
    {
     "name": "stdout",
     "output_type": "stream",
     "text": [
      "11\n"
     ]
    }
   ],
   "source": [
    "a = np.array([1,2])\n",
    "b = np.array([3,4])\n",
    "\n",
    "print(np.dot(a,b)) # output a1*b1 + a2*b2 = 11"
   ]
  },
  {
   "cell_type": "markdown",
   "metadata": {},
   "source": [
    "## <a id=\"MatricesAndMatrixArithmetic\"></a>Matrices And Matrix Arithmetic\n",
    "\n",
    "### <a id=\"ScalarOperationsOnMatrices\"></a>Scalar Operations On Matrices\n",
    "\n",
    "Scalar operations with matrices works the same way as they do for vectors. \n",
    "Simply apply the scalar to every element in the matrix add, subtract, divide, multiply, etc.\n",
    "\n",
    "The multiplication is prefomed on each element of the matrix. The result is scaled matrix of the same shape as parent matrix.\n",
    "\n",
    "***C = A x b***\n",
    "\n",
    "Now if we have matrix with 3 rows and 2 columns, result will be:   \n",
    "\n",
    "\n",
    "***C[0, 0] = A[0, 0] X b***   \n",
    "***C[1, 0] = A[1, 0] X b***   \n",
    "***C[2, 0] = A[2, 0] X b***   \n",
    "***C[0, 1] = A[0, 1] X b***   \n",
    "***C[1, 1] = A[1, 1] X b***   \n",
    "***C[2, 1] = A[2, 1] X b***   \n",
    "\n",
    "Example:\n",
    "\n",
    "***b = 10***\n",
    "\n",
    "\n",
    "**A** $=  \\begin{pmatrix}\n",
    "1 & 2 & 3 \\\\\n",
    "4 & 5 & 6 \\\\\n",
    "\\end{pmatrix}$\n",
    "\n",
    "resulting matrix ***C*** is:\n",
    "\n",
    "**C** $= 10 * \\begin{pmatrix}\n",
    "1 & 2 & 3 \\\\\n",
    "4 & 5 & 6 \\\\\n",
    "\\end{pmatrix}$ \n",
    "= $  \n",
    "\\begin{pmatrix}\n",
    "10 * 1 & 10 * 2 & 10 * 3 \\\\\n",
    "10 * 4 & 10 * 5 & 10 * 6 \\\\\n",
    "\\end{pmatrix}$ = $\n",
    "\\begin{pmatrix}\n",
    "10 & 20 & 30 \\\\\n",
    "40 & 50 & 60 \\\\\n",
    "\\end{pmatrix}$\n",
    "\n",
    "Same rule is used for addition, substraction and division.\n",
    "\n",
    "Let's see example with NumPy:"
   ]
  },
  {
   "cell_type": "code",
   "execution_count": 72,
   "metadata": {
    "scrolled": true
   },
   "outputs": [
    {
     "name": "stdout",
     "output_type": "stream",
     "text": [
      "[[1 2 3]\n",
      " [4 5 6]]\n",
      "(2, 3)\n",
      "[[10 20 30]\n",
      " [40 50 60]]\n",
      "[[11 12 13]\n",
      " [14 15 16]]\n",
      "[[9 8 7]\n",
      " [6 5 4]]\n",
      "[[10.          5.          3.33333333]\n",
      " [ 2.5         2.          1.66666667]]\n"
     ]
    }
   ],
   "source": [
    "a = np.array([[1,2,3], [4, 5, 6]])\n",
    "\n",
    "print(a)\n",
    "print(a.shape)\n",
    "\n",
    "print(10 * a) # output [[10 20 30] [40 50 60]]\n",
    "print(10 + a) # output [[11 12 13][14 15 16]]\n",
    "print(10 - a) # output [[9 8 7] [6 5 4]]\n",
    "print(10 / a) # output [[10. 5. 3.33] [2.5 2. 1.66]]"
   ]
  },
  {
   "cell_type": "markdown",
   "metadata": {},
   "source": [
    "\n",
    "### <a id=\"ElementwiseOperationsOnMatrices\"></a>Elementwise Operations On Matrices\n",
    "\n",
    "In order to add, subtract, or divide two matrices they must have equal dimensions.\n",
    "We combine corresponding values in an elementwise fashion to produce a new matrix.\n",
    "\n",
    "This operation is fairly easy but requires both matrices of same dimension to perform the operation. \n",
    "The resulting matrix is of the same dimension. We have to just add the each value of first matrix with the corresponding value of the other matrix.\n",
    "\n",
    "### <a id=\"MatrixAddition\"></a>Matrix Addition\n",
    "\n",
    "Two matrix can be added to create new third vector:\n",
    "\n",
    "***C = A + B***\n",
    "\n",
    "New matrix has same shape like other two matices, result will be:   \n",
    "\n",
    "***C[0, 0] = A[0, 0] + B[0, 0]***   \n",
    "***C[1, 0] = A[1, 0] + B[1, 0]***   \n",
    "***C[2, 0] = A[2, 0] + B[2, 0]***   \n",
    "***C[0, 1] = A[0, 1] + B[0, 1]***   \n",
    "***C[1, 1] = A[1, 1] + B[1, 1]***   \n",
    "***C[2, 1] = A[2, 1] + B[2, 1]***   \n",
    "\n",
    "Example:\n",
    "\n",
    "**A** $=  \\begin{pmatrix}\n",
    "1 & 2  \\\\\n",
    "3 & 4 \\\\\n",
    "\\end{pmatrix}$\n",
    "\n",
    "**B** $=  \\begin{pmatrix}\n",
    "1 & 2  \\\\\n",
    "3 & 4 \\\\\n",
    "\\end{pmatrix}$\n",
    "\n",
    "resulting matrix ***C*** is:\n",
    "\n",
    "**C** $= \\begin{pmatrix}\n",
    "1 & 2  \\\\\n",
    "3 & 4 \\\\\n",
    "\\end{pmatrix}$ +\n",
    "$\\begin{pmatrix}\n",
    "1 & 2  \\\\\n",
    "3 & 4 \\\\\n",
    "\\end{pmatrix}$ = \n",
    "$\\begin{pmatrix}\n",
    "1 + 1 & 2 + 2  \\\\\n",
    "3 + 3 & 4 + 4 \\\\\n",
    "\\end{pmatrix}$ = \n",
    "$\\begin{pmatrix}\n",
    "2 & 4  \\\\\n",
    "6 & 8 \\\\\n",
    "\\end{pmatrix}$ \n"
   ]
  },
  {
   "cell_type": "code",
   "execution_count": 73,
   "metadata": {},
   "outputs": [
    {
     "name": "stdout",
     "output_type": "stream",
     "text": [
      "[[2 4]\n",
      " [6 8]]\n"
     ]
    }
   ],
   "source": [
    "A = np.array([[1,2],[3, 4]])\n",
    "B = np.array([[1,2],[3, 4]])\n",
    "\n",
    "print(A + B)  # output [[2 4],[6 8]]"
   ]
  },
  {
   "cell_type": "markdown",
   "metadata": {},
   "source": [
    "### <a id=\"MatrixSubtraction\"></a>Matrix Subtraction\n",
    "\n",
    "One matrix can be subtracted with another:\n",
    "\n",
    "***C = A - B***\n",
    "\n",
    "New matrix has same shape like other two matices, result will be:   \n",
    "\n",
    "***C[0, 0] = A[0, 0] - B[0, 0]***   \n",
    "***C[1, 0] = A[1, 0] - B[1, 0]***   \n",
    "***C[2, 0] = A[2, 0] - B[2, 0]***   \n",
    "***C[0, 1] = A[0, 1] - B[0, 1]***   \n",
    "***C[1, 1] = A[1, 1] - B[1, 1]***   \n",
    "***C[2, 1] = A[2, 1] - B[2, 1]***   \n",
    "\n",
    "Example:\n",
    "\n",
    "**A** $=  \\begin{pmatrix}\n",
    "1 & 2  \\\\\n",
    "3 & 4 \\\\\n",
    "\\end{pmatrix}$\n",
    "\n",
    "**B** $=  \\begin{pmatrix}\n",
    "1 & 2  \\\\\n",
    "3 & 4 \\\\\n",
    "\\end{pmatrix}$\n",
    "\n",
    "resulting matrix ***C*** is:\n",
    "\n",
    "**C** $= \\begin{pmatrix}\n",
    "1 & 2  \\\\\n",
    "3 & 4 \\\\\n",
    "\\end{pmatrix}$ -\n",
    "$\\begin{pmatrix}\n",
    "1 & 2  \\\\\n",
    "3 & 4 \\\\\n",
    "\\end{pmatrix}$ = \n",
    "$\\begin{pmatrix}\n",
    "1 - 1 & 2 - 2  \\\\\n",
    "3 - 3 & 4 - 4 \\\\\n",
    "\\end{pmatrix}$ = \n",
    "$\\begin{pmatrix}\n",
    "0 & 0  \\\\\n",
    "0 & 0 \\\\\n",
    "\\end{pmatrix}$ \n"
   ]
  },
  {
   "cell_type": "code",
   "execution_count": 74,
   "metadata": {},
   "outputs": [
    {
     "name": "stdout",
     "output_type": "stream",
     "text": [
      "[[0 0]\n",
      " [0 0]]\n"
     ]
    }
   ],
   "source": [
    "A = np.array([[1,2],[3, 4]])\n",
    "B = np.array([[1,2],[3, 4]])\n",
    "\n",
    "print(A - B)  # output [[0 0],[0 0]]"
   ]
  },
  {
   "cell_type": "markdown",
   "metadata": {},
   "source": [
    "### <a id=\"MatrixMultiplicationElement-wise\"></a> Matrix Multiplication(Element-wise)\n",
    "\n",
    "Two matrices can be multiplied together, and this is often called Hadamard product or element-wise matrix multiplication:\n",
    "\n",
    "***C = A o B***\n",
    "\n",
    "New matrix has same shape like other two matices, result will be:   \n",
    "\n",
    "***C[0, 0] = A[0, 0] X B[0, 0]***   \n",
    "***C[1, 0] = A[1, 0] X B[1, 0]***   \n",
    "***C[2, 0] = A[2, 0] X B[2, 0]***   \n",
    "***C[0, 1] = A[0, 1] X B[0, 1]***   \n",
    "***C[1, 1] = A[1, 1] X B[1, 1]***   \n",
    "***C[2, 1] = A[2, 1] X B[2, 1]***   \n",
    "\n",
    "Example:\n",
    "\n",
    "**A** $=  \\begin{pmatrix}\n",
    "1 & 2  \\\\\n",
    "3 & 4 \\\\\n",
    "\\end{pmatrix}$\n",
    "\n",
    "**B** $=  \\begin{pmatrix}\n",
    "1 & 2  \\\\\n",
    "3 & 4 \\\\\n",
    "\\end{pmatrix}$\n",
    "\n",
    "resulting matrix ***C*** is:\n",
    "\n",
    "**C** $= \\begin{pmatrix}\n",
    "1 & 2  \\\\\n",
    "3 & 4 \\\\\n",
    "\\end{pmatrix}$ x\n",
    "$\\begin{pmatrix}\n",
    "1 & 2  \\\\\n",
    "3 & 4 \\\\\n",
    "\\end{pmatrix}$ = \n",
    "$\\begin{pmatrix}\n",
    "1 x 1 & 2 x 2  \\\\\n",
    "3 x 3 & 4 x 4 \\\\\n",
    "\\end{pmatrix}$ = \n",
    "$\\begin{pmatrix}\n",
    "1 & 4  \\\\\n",
    "9 & 16 \\\\\n",
    "\\end{pmatrix}$ "
   ]
  },
  {
   "cell_type": "code",
   "execution_count": 75,
   "metadata": {},
   "outputs": [
    {
     "name": "stdout",
     "output_type": "stream",
     "text": [
      "[[ 1  4]\n",
      " [ 9 16]]\n"
     ]
    }
   ],
   "source": [
    "A = np.array([[1,2],[3, 4]])\n",
    "B = np.array([[1,2],[3, 4]])\n",
    "\n",
    "print(A * B)  # output [[1 4],[9 16]]"
   ]
  },
  {
   "cell_type": "markdown",
   "metadata": {},
   "source": [
    "### <a id=\"MatrixDivision\"></a>Matrix Division\n",
    "\n",
    "Matrix can be divided by another matrix with same dimension:\n",
    "\n",
    "***C = A / B***\n",
    "\n",
    "New matrix has same shape like other two matices, result will be:   \n",
    "\n",
    "***C[0, 0] = A[0, 0] / B[0, 0]***   \n",
    "***C[1, 0] = A[1, 0] / B[1, 0]***   \n",
    "***C[2, 0] = A[2, 0] / B[2, 0]***   \n",
    "***C[0, 1] = A[0, 1] / B[0, 1]***   \n",
    "***C[1, 1] = A[1, 1] / B[1, 1]***   \n",
    "***C[2, 1] = A[2, 1] / B[2, 1]***   \n",
    "\n",
    "Example:\n",
    "\n",
    "**A** $=  \\begin{pmatrix}\n",
    "1 & 2  \\\\\n",
    "3 & 4 \\\\\n",
    "\\end{pmatrix}$\n",
    "\n",
    "**B** $=  \\begin{pmatrix}\n",
    "1 & 2  \\\\\n",
    "3 & 4 \\\\\n",
    "\\end{pmatrix}$\n",
    "\n",
    "resulting matrix ***C*** is:\n",
    "\n",
    "**C** $= \\begin{pmatrix}\n",
    "1 & 2  \\\\\n",
    "3 & 4 \\\\\n",
    "\\end{pmatrix}$ /\n",
    "$\\begin{pmatrix}\n",
    "1 & 2  \\\\\n",
    "3 & 4 \\\\\n",
    "\\end{pmatrix}$ = \n",
    "$\\begin{pmatrix}\n",
    "1 / 1 & 2 / 2  \\\\\n",
    "3 / 3 & 4 / 4 \\\\\n",
    "\\end{pmatrix}$ = \n",
    "$\\begin{pmatrix}\n",
    "1. & 1.  \\\\\n",
    "1. & 1. \\\\\n",
    "\\end{pmatrix}$ \n"
   ]
  },
  {
   "cell_type": "code",
   "execution_count": 76,
   "metadata": {},
   "outputs": [
    {
     "name": "stdout",
     "output_type": "stream",
     "text": [
      "[[1. 1.]\n",
      " [1. 1.]]\n"
     ]
    }
   ],
   "source": [
    "A = np.array([[1,2],[3, 4]])\n",
    "B = np.array([[1,2],[3, 4]])\n",
    "\n",
    "print(A / B)  # output [[1. 1.],[1. 1.]]"
   ]
  },
  {
   "cell_type": "markdown",
   "metadata": {},
   "source": [
    "### <a id=\"MatrixMultiplicationMatrixDotProduct\"></a>Matrix Multiplication(Matrix dot product)\n",
    "\n",
    "Matrix multiplication is based on rules for multiplying matrices together to produce a new matrix.\n",
    "Not all matrices are eligible for multiplication. In addition, there is a requirement on the dimensions of the resulting matrix output. \n",
    "\n",
    "Rules:\n",
    "\n",
    " * The number of columns of the ***1st*** matrix must be equal as number of rows of the ***2nd*** matix   \n",
    " * The product of an ***M*** x ***N*** matrix and an ***N*** x ***K*** matrix is an ***M*** x ***K*** matrix. The new matrix takes the rows of the ***1st*** and columns of the ***2nd*** matrices\n",
    "\n",
    "The intuition for the matrix multiplication is that we are calculating the dot product between each row in matrix ***A*** with each column in matrix ***B***.\n",
    "\n",
    "A matrix $A$ of size $m \\times n$ can be multiplied by a matrix $B$ of size $n \\times q$. It is noted simply $AB$ without multiplication sign or dot. The result $C$ is an $m \\times q$ matrix where each element is computed as a sum of products:\n",
    "\n",
    "\n",
    "$C_{i,j} = \\sum_{k=1}^n{A_{i,k} \\times B_{k,j}}$\n",
    "\n",
    "Matrix multiplication can be described using array notation as well:\n",
    "\n",
    "***C[0, 0] = A[0, 0] X B[0, 0] + A[0, 1] X B[1, 0]***   \n",
    "***C[1, 0] = A[1, 0] X B[0, 0] + A[1, 1] X B[1, 0]***   \n",
    "***C[2, 0] = A[2, 0] X B[0, 0] + A[2, 1] X B[1, 0]***   \n",
    "***C[0, 1] = A[0, 1] X B[0, 1] + A[0, 1] X B[1, 1]***   \n",
    "***C[1, 1] = A[1, 1] X B[0, 1] + A[1, 1] X B[1, 1]***   \n",
    "***C[2, 1] = A[2, 1] X B[0, 1] + A[2, 1] X B[1, 1]***   \n",
    "\n",
    "\n",
    "Example:\n",
    "\n",
    "**A** $=  \\begin{pmatrix}\n",
    "1 & 2 \\\\\n",
    "3 & 4 \\\\\n",
    "5 & 6 \\\\\n",
    "\\end{pmatrix}$\n",
    "\n",
    "**B** $=  \\begin{pmatrix}\n",
    "1 & 3 & 5 \\\\\n",
    "2 & 4 & 6\\\\\n",
    "\\end{pmatrix}$\n",
    "\n",
    "resulting matrix ***C*** is:\n",
    "\n",
    "**C** $= \\begin{pmatrix}\n",
    "1 & 2 \\\\\n",
    "3 & 4 \\\\\n",
    "5 & 6 \\\\\n",
    "\\end{pmatrix}$ \n",
    "$\\begin{pmatrix}\n",
    "1 & 3 & 5 \\\\\n",
    "2 & 4 & 6\\\\\n",
    "\\end{pmatrix}$ = \n",
    "$\\begin{pmatrix}\n",
    "1 * 1 + 2 * 2 & 1 * 3 + 2 * 4 & 1 * 5 + 2 * 6  \\\\\n",
    "3 * 1 + 3 * 2 & 3 * 3 + 4 * 4 & 3 * 5 + 4 * 6  \\\\\n",
    "5 * 1 + 6 * 2 & 5 * 3 + 6 * 4 & 5 * 5 + 6 * 6  \\\\\n",
    "\\end{pmatrix}$ = \n",
    "$\\begin{pmatrix}\n",
    "5 & 11 & 17 \\\\\n",
    "11 & 25 & 39 \\\\\n",
    "17 & 39 & 61 \\\\\n",
    "\\end{pmatrix}$ "
   ]
  },
  {
   "cell_type": "code",
   "execution_count": 77,
   "metadata": {},
   "outputs": [
    {
     "name": "stdout",
     "output_type": "stream",
     "text": [
      "(3, 2)\n",
      "(2, 3)\n",
      "[[1 2]\n",
      " [3 4]\n",
      " [5 6]]\n",
      "[[1 3 5]\n",
      " [2 4 6]]\n",
      "[[ 5 11 17]\n",
      " [11 25 39]\n",
      " [17 39 61]]\n",
      "(3, 3)\n"
     ]
    }
   ],
   "source": [
    "a = np.array([\n",
    " [1, 2], \n",
    " [3, 4],\n",
    " [5, 6]\n",
    "])\n",
    "\n",
    "b = a.T # transpose, b = [[1 3 5] [2 4 6]]\n",
    "\n",
    "print(a.shape)\n",
    "print(b.shape)\n",
    "\n",
    "print(a)\n",
    "print(b)\n",
    "\n",
    "c = np.dot(a, b)\n",
    "\n",
    "print(c) # output 1st el. = a11*b11 + a12*b21 = 5, 2nd el. = a11*b12 + a12*b22 = 11, ... -> [[ 5 11 17] [11 25 39]  [17 39 61]]\n",
    "print(c.shape)"
   ]
  },
  {
   "cell_type": "markdown",
   "metadata": {
    "collapsed": true
   },
   "source": [
    "### <a id=\"MatrixVectorMultiplication\"></a>Matrix-Vector Multiplication\n",
    "\n",
    "Matrix and vector can be multiplied together as long as rule for the matrix multiplication is satisfied. Number of columns in the \n",
    "matrix must be equal to the number fo items in vector. Result is vector.\n",
    "\n",
    "***c = Av***\n",
    "\n",
    "Multiplication can be described using array notation:   \n",
    "\n",
    "\n",
    "***c[0] = A[0, 0] X v[0] + A[0, 1] X v[0]***   \n",
    "***c[1] = A[1, 0] X v[0] + A[1, 1] X v[1]***   \n",
    "***c[2] = A[2, 0] X v[0] + A[2, 1] X v[1]***   \n",
    "\n",
    "Example:\n",
    "\n",
    "Example:\n",
    "\n",
    "**A** $=  \\begin{pmatrix}\n",
    "1 & 2 \\\\\n",
    "3 & 4 \\\\\n",
    "5 & 6 \\\\\n",
    "\\end{pmatrix}$\n",
    "\n",
    "**v** $=  \\begin{pmatrix}\n",
    "1  \\\\\n",
    "2  \\\\\n",
    "\\end{pmatrix}$\n",
    "\n",
    "resulting vector ***C*** is:\n",
    "\n",
    "**C** $= \\begin{pmatrix}\n",
    "1 & 2 \\\\\n",
    "3 & 4 \\\\\n",
    "5 & 6 \\\\\n",
    "\\end{pmatrix}$ *\n",
    "$\\begin{pmatrix}\n",
    "1 \\\\\n",
    "2 \\\\\n",
    "\\end{pmatrix}$ = \n",
    "$\\begin{pmatrix}\n",
    "1*1 + 2*2 \\\\\n",
    "3*1 + 4*2 \\\\\n",
    "5*1 + 6*2 \\\\\n",
    "\\end{pmatrix}$ = \n",
    "$\\begin{pmatrix}\n",
    "5 \\\\\n",
    "11 \\\\\n",
    "17 \\\\\n",
    "\\end{pmatrix}$ \n"
   ]
  },
  {
   "cell_type": "code",
   "execution_count": 78,
   "metadata": {},
   "outputs": [
    {
     "name": "stdout",
     "output_type": "stream",
     "text": [
      "(3, 2)\n",
      "(2,)\n",
      "[ 5 11 17]\n"
     ]
    }
   ],
   "source": [
    "a = np.array([\n",
    " [1, 2], \n",
    " [3, 4],\n",
    " [5, 6]\n",
    "])\n",
    "\n",
    "b = np.array([1, 2])\n",
    "\n",
    "print(a.shape)\n",
    "print(b.shape)\n",
    "\n",
    "c = np.dot(a, b)\n",
    "\n",
    "print(c) # output [ 5 11 17] "
   ]
  },
  {
   "cell_type": "markdown",
   "metadata": {},
   "source": [
    "## <a id=\"TensorArithmetic\"></a>Tensor Arithmetic\n",
    "\n",
    "We can perfom element-wise arithmetic between tensors.\n",
    "\n",
    "### <a id=\"TensorAddition\"></a>Tensor Addition\n",
    "\n",
    "Element-wise addition of two tensors with the same dimensions results in the new tensor with same dimensions.\n",
    "\n",
    "\n",
    "***C = A + B***\n",
    "\n",
    "Now if we have two tensors with shape (2, 2, 2), result will be:   \n",
    "\n",
    "\n",
    "***C[0, 0, 0] = A[0, 0, 0] + B[0, 0, 0]***   \n",
    "***C[0, 0, 1] = A[0, 0, 1] + B[0, 0, 0]***   \n",
    "\n",
    "***C[0, 1, 0] = A[0, 1, 0] + B[0, 1, 0]***   \n",
    "***C[0, 0, 1] = A[0, 0, 1] + B[0, 0, 1]***   \n",
    "\n",
    "***C[1, 0, 0] = A[1, 0, 0] + B[1, 0, 0]***   \n",
    "***C[1, 0, 1] = A[1, 0, 1] + B[1, 0, 1]***   \n",
    "\n",
    "***C[1, 1, 0] = A[1, 1, 0] + B[1, 1, 0]***   \n",
    "***C[1, 1, 1] = A[1, 1, 1] + B[1, 1, 1]***   \n",
    "\n",
    "\n",
    "Example:\n",
    "\n",
    "**A** $=  \\begin{pmatrix}\n",
    "1 & 2  \\\\\n",
    "3 & 4 \\\\ \n",
    "\\end{pmatrix}$ , \n",
    "$  \\begin{pmatrix}\n",
    "5 & 6  \\\\\n",
    "7 & 8 \\\\ \n",
    "\\end{pmatrix}$\n",
    "\n",
    "\n",
    "**B** $=  \\begin{pmatrix}\n",
    "1 & 2  \\\\\n",
    "3 & 4 \\\\ \n",
    "\\end{pmatrix}$ , \n",
    "$  \\begin{pmatrix}\n",
    "5 & 6  \\\\\n",
    "7 & 8 \\\\ \n",
    "\\end{pmatrix}$\n",
    "\n",
    "resulting matrix ***C*** is:\n",
    "\n",
    "**C** $=  \\begin{pmatrix}\n",
    "1 & 2  \\\\\n",
    "3 & 4 \\\\ \n",
    "\\end{pmatrix}$ , \n",
    "$  \\begin{pmatrix}\n",
    "5 & 6  \\\\\n",
    "7 & 8 \\\\ \n",
    "\\end{pmatrix}$ + \n",
    "$  \\begin{pmatrix}\n",
    "1 & 2  \\\\\n",
    "3 & 4 \\\\ \n",
    "\\end{pmatrix}$ , \n",
    "$  \\begin{pmatrix}\n",
    "5 & 6  \\\\\n",
    "7 & 8 \\\\ \n",
    "\\end{pmatrix}$\n",
    "\n",
    "$C =  \\begin{pmatrix}\n",
    "1+1 & 2+2  \\\\\n",
    "3+3 & 4+4 \\\\ \n",
    "\\end{pmatrix}$ , \n",
    "$  \\begin{pmatrix}\n",
    "5+5 & 6+6  \\\\\n",
    "7+7 & 8+8 \\\\ \n",
    "\\end{pmatrix}$\n",
    "\n",
    "$C =  \\begin{pmatrix}\n",
    "2 & 4  \\\\\n",
    "6 & 8 \\\\ \n",
    "\\end{pmatrix}$ , \n",
    "$  \\begin{pmatrix}\n",
    "10 & 12  \\\\\n",
    "14 & 16 \\\\ \n",
    "\\end{pmatrix}$\n"
   ]
  },
  {
   "cell_type": "code",
   "execution_count": 79,
   "metadata": {},
   "outputs": [
    {
     "name": "stdout",
     "output_type": "stream",
     "text": [
      "(2, 2, 2)\n",
      "[[[ 2  4]\n",
      "  [ 6  8]]\n",
      "\n",
      " [[10 12]\n",
      "  [14 16]]]\n"
     ]
    }
   ],
   "source": [
    "A = np.array([ \n",
    "    [[1,2], [3, 4]], \n",
    "    [[5,6], [7, 8]]]) \n",
    "\n",
    "B = np.array([ \n",
    "    [[1,2], [3, 4]], \n",
    "    [[5,6], [7, 8]]]) \n",
    "\n",
    "print(A.shape)\n",
    "\n",
    "C = A + B\n",
    "print(C)"
   ]
  },
  {
   "cell_type": "markdown",
   "metadata": {},
   "source": [
    "### <a id=\"TensorSubtraction\"></a>Tensor Subtraction\n",
    "\n",
    "Element-wise subtraction of two tensors with the same dimensions results in the new temsor with same dimensions.\n",
    "\n",
    "\n",
    "***C = A - B***\n",
    "\n",
    "Now if we have two tensors with shape (2, 2, 2), result will be:   \n",
    "\n",
    "\n",
    "***C[0, 0, 0] = A[0, 0, 0] - B[0, 0, 0]***   \n",
    "***C[0, 0, 1] = A[0, 0, 1] - B[0, 0, 0]***   \n",
    "\n",
    "***C[0, 1, 0] = A[0, 1, 0] - B[0, 1, 0]***   \n",
    "***C[0, 0, 1] = A[0, 0, 1] - B[0, 0, 1]***   \n",
    "\n",
    "***C[1, 0, 0] = A[1, 0, 0] - B[1, 0, 0]***   \n",
    "***C[1, 0, 1] = A[1, 0, 1] - B[1, 0, 1]***   \n",
    "\n",
    "***C[1, 1, 0] = A[1, 1, 0] - B[1, 1, 0]***   \n",
    "***C[1, 1, 1] = A[1, 1, 1] - B[1, 1, 1]***   \n",
    "\n",
    "\n",
    "Example:\n",
    "\n",
    "**A** $=  \\begin{pmatrix}\n",
    "1 & 2  \\\\\n",
    "3 & 4 \\\\ \n",
    "\\end{pmatrix}$ , \n",
    "$  \\begin{pmatrix}\n",
    "5 & 6  \\\\\n",
    "7 & 8 \\\\ \n",
    "\\end{pmatrix}$\n",
    "\n",
    "\n",
    "**B** $=  \\begin{pmatrix}\n",
    "1 & 2  \\\\\n",
    "3 & 4 \\\\ \n",
    "\\end{pmatrix}$ , \n",
    "$  \\begin{pmatrix}\n",
    "5 & 6  \\\\\n",
    "7 & 8 \\\\ \n",
    "\\end{pmatrix}$\n",
    "\n",
    "resulting matrix ***C*** is:\n",
    "\n",
    "**C** $=  \\begin{pmatrix}\n",
    "1 & 2  \\\\\n",
    "3 & 4 \\\\ \n",
    "\\end{pmatrix}$ , \n",
    "$  \\begin{pmatrix}\n",
    "5 & 6  \\\\\n",
    "7 & 8 \\\\ \n",
    "\\end{pmatrix}$ - \n",
    "$  \\begin{pmatrix}\n",
    "1 & 2  \\\\\n",
    "3 & 4 \\\\ \n",
    "\\end{pmatrix}$ , \n",
    "$  \\begin{pmatrix}\n",
    "5 & 6  \\\\\n",
    "7 & 8 \\\\ \n",
    "\\end{pmatrix}$\n",
    "\n",
    "$C =  \\begin{pmatrix}\n",
    "1-1 & 2-2  \\\\\n",
    "3-3 & 4-4 \\\\ \n",
    "\\end{pmatrix}$ , \n",
    "$  \\begin{pmatrix}\n",
    "5-5 & 6-6  \\\\\n",
    "7-7 & 8-8 \\\\ \n",
    "\\end{pmatrix}$\n",
    "\n",
    "$C =  \\begin{pmatrix}\n",
    "0 & 0  \\\\\n",
    "0 & 0 \\\\ \n",
    "\\end{pmatrix}$ , \n",
    "$  \\begin{pmatrix}\n",
    "0 & 0  \\\\\n",
    "0 & 0 \\\\ \n",
    "\\end{pmatrix}$\n"
   ]
  },
  {
   "cell_type": "code",
   "execution_count": 80,
   "metadata": {},
   "outputs": [
    {
     "name": "stdout",
     "output_type": "stream",
     "text": [
      "(2, 2, 2)\n",
      "[[[0 0]\n",
      "  [0 0]]\n",
      "\n",
      " [[0 0]\n",
      "  [0 0]]]\n"
     ]
    }
   ],
   "source": [
    "A = np.array([ \n",
    "    [[1,2], [3, 4]], \n",
    "    [[5,6], [7, 8]]]) \n",
    "\n",
    "B = np.array([ \n",
    "    [[1,2], [3, 4]], \n",
    "    [[5,6], [7, 8]]]) \n",
    "\n",
    "print(A.shape)\n",
    "\n",
    "C = A - B\n",
    "print(C)"
   ]
  },
  {
   "cell_type": "markdown",
   "metadata": {},
   "source": [
    "### <a id=\"TensorMultiplication\"></a>Tensor Multiplication\n",
    "\n",
    "Element-wise multiplication of two tensors with the same dimensions results in the new temsor with same dimensions.\n",
    "Operation is called Hadamard product.\n",
    "\n",
    "\n",
    "***C = A o B***\n",
    "\n",
    "Now if we have two tensors with shape (2, 2, 2), result will be:   \n",
    "\n",
    "\n",
    "***C[0, 0, 0] = A[0, 0, 0] o B[0, 0, 0]***   \n",
    "***C[0, 0, 1] = A[0, 0, 1] o B[0, 0, 0]***   \n",
    "\n",
    "***C[0, 1, 0] = A[0, 1, 0] o B[0, 1, 0]***   \n",
    "***C[0, 0, 1] = A[0, 0, 1] o B[0, 0, 1]***   \n",
    "\n",
    "***C[1, 0, 0] = A[1, 0, 0] o B[1, 0, 0]***   \n",
    "***C[1, 0, 1] = A[1, 0, 1] o B[1, 0, 1]***   \n",
    "\n",
    "***C[1, 1, 0] = A[1, 1, 0] o B[1, 1, 0]***   \n",
    "***C[1, 1, 1] = A[1, 1, 1] o B[1, 1, 1]***   \n",
    "\n",
    "\n",
    "\n",
    "Example:\n",
    "\n",
    "**A** $=  \\begin{pmatrix}\n",
    "1 & 2  \\\\\n",
    "3 & 4 \\\\ \n",
    "\\end{pmatrix}$ , \n",
    "$  \\begin{pmatrix}\n",
    "5 & 6  \\\\\n",
    "7 & 8 \\\\ \n",
    "\\end{pmatrix}$\n",
    "\n",
    "\n",
    "**B** $=  \\begin{pmatrix}\n",
    "1 & 2  \\\\\n",
    "3 & 4 \\\\ \n",
    "\\end{pmatrix}$ , \n",
    "$  \\begin{pmatrix}\n",
    "5 & 6  \\\\\n",
    "7 & 8 \\\\ \n",
    "\\end{pmatrix}$\n",
    "\n",
    "resulting matrix ***C*** is:\n",
    "\n",
    "**C** $=  \\begin{pmatrix}\n",
    "1 & 2  \\\\\n",
    "3 & 4 \\\\ \n",
    "\\end{pmatrix}$ , \n",
    "$  \\begin{pmatrix}\n",
    "5 & 6  \\\\\n",
    "7 & 8 \\\\ \n",
    "\\end{pmatrix}$ * \n",
    "$  \\begin{pmatrix}\n",
    "1 & 2  \\\\\n",
    "3 & 4 \\\\ \n",
    "\\end{pmatrix}$ , \n",
    "$  \\begin{pmatrix}\n",
    "5 & 6  \\\\\n",
    "7 & 8 \\\\ \n",
    "\\end{pmatrix}$\n",
    "\n",
    "$C =  \\begin{pmatrix}\n",
    "1*1 & 2*2  \\\\\n",
    "3*3 & 4*4 \\\\ \n",
    "\\end{pmatrix}$ , \n",
    "$  \\begin{pmatrix}\n",
    "5*5 & 6*6  \\\\\n",
    "7*7 & 8*8 \\\\ \n",
    "\\end{pmatrix}$\n",
    "\n",
    "$C =  \\begin{pmatrix}\n",
    "1 & 4  \\\\\n",
    "9 & 16 \\\\ \n",
    "\\end{pmatrix}$ , \n",
    "$  \\begin{pmatrix}\n",
    "25 & 36  \\\\\n",
    "49 & 64 \\\\ \n",
    "\\end{pmatrix}$\n"
   ]
  },
  {
   "cell_type": "code",
   "execution_count": 81,
   "metadata": {},
   "outputs": [
    {
     "name": "stdout",
     "output_type": "stream",
     "text": [
      "(2, 2, 2)\n",
      "[[[ 1  4]\n",
      "  [ 9 16]]\n",
      "\n",
      " [[25 36]\n",
      "  [49 64]]]\n"
     ]
    }
   ],
   "source": [
    "A = np.array([ \n",
    "    [[1,2], [3, 4]], \n",
    "    [[5,6], [7, 8]]]) \n",
    "\n",
    "B = np.array([ \n",
    "    [[1,2], [3, 4]], \n",
    "    [[5,6], [7, 8]]]) \n",
    "\n",
    "print(A.shape)\n",
    "\n",
    "C = A * B\n",
    "print(C)"
   ]
  },
  {
   "cell_type": "markdown",
   "metadata": {},
   "source": [
    "### <a id=\"TensorDivision\"></a>Tensor Division\n",
    "\n",
    "Element-wise division of two tensors with the same dimensions results in the new temsor with same dimensions.\n",
    "\n",
    "***C = A / B***\n",
    "\n",
    "Now if we have two tensors with shape (2, 2, 2), result will be:   \n",
    "\n",
    "\n",
    "***C[0, 0, 0] = A[0, 0, 0] / B[0, 0, 0]***   \n",
    "***C[0, 0, 1] = A[0, 0, 1] / B[0, 0, 0]***   \n",
    "\n",
    "***C[0, 1, 0] = A[0, 1, 0] / B[0, 1, 0]***   \n",
    "***C[0, 0, 1] = A[0, 0, 1] / B[0, 0, 1]***   \n",
    "\n",
    "***C[1, 0, 0] = A[1, 0, 0] / B[1, 0, 0]***   \n",
    "***C[1, 0, 1] = A[1, 0, 1] / B[1, 0, 1]***   \n",
    "\n",
    "***C[1, 1, 0] = A[1, 1, 0] / B[1, 1, 0]***   \n",
    "***C[1, 1, 1] = A[1, 1, 1] / B[1, 1, 1]***   \n",
    "\n",
    "\n",
    "Example:\n",
    "\n",
    "**A** $=  \\begin{pmatrix}\n",
    "1 & 2  \\\\\n",
    "3 & 4 \\\\ \n",
    "\\end{pmatrix}$ , \n",
    "$  \\begin{pmatrix}\n",
    "5 & 6  \\\\\n",
    "7 & 8 \\\\ \n",
    "\\end{pmatrix}$\n",
    "\n",
    "\n",
    "**B** $=  \\begin{pmatrix}\n",
    "1 & 2  \\\\\n",
    "3 & 4 \\\\ \n",
    "\\end{pmatrix}$ , \n",
    "$  \\begin{pmatrix}\n",
    "5 & 6  \\\\\n",
    "7 & 8 \\\\ \n",
    "\\end{pmatrix}$\n",
    "\n",
    "resulting matrix ***C*** is:\n",
    "\n",
    "**C** $=  \\begin{pmatrix}\n",
    "1 & 2  \\\\\n",
    "3 & 4 \\\\ \n",
    "\\end{pmatrix}$ , \n",
    "$  \\begin{pmatrix}\n",
    "5 & 6  \\\\\n",
    "7 & 8 \\\\ \n",
    "\\end{pmatrix}$ /\n",
    "$  \\begin{pmatrix}\n",
    "1 & 2  \\\\\n",
    "3 & 4 \\\\ \n",
    "\\end{pmatrix}$ , \n",
    "$  \\begin{pmatrix}\n",
    "5 & 6  \\\\\n",
    "7 & 8 \\\\ \n",
    "\\end{pmatrix}$\n",
    "\n",
    "$C =  \\begin{pmatrix}\n",
    "1/1 & 2/2  \\\\\n",
    "3/3 & 4/4 \\\\ \n",
    "\\end{pmatrix}$ , \n",
    "$  \\begin{pmatrix}\n",
    "5/5 & 6/6  \\\\\n",
    "7/7 & 8/8 \\\\ \n",
    "\\end{pmatrix}$\n",
    "\n",
    "$C =  \\begin{pmatrix}\n",
    "1. & 1.  \\\\\n",
    "1. & 1. \\\\ \n",
    "\\end{pmatrix}$ , \n",
    "$  \\begin{pmatrix}\n",
    "1. & 1.  \\\\\n",
    "1. & 1. \\\\ \n",
    "\\end{pmatrix}$\n"
   ]
  },
  {
   "cell_type": "code",
   "execution_count": 82,
   "metadata": {},
   "outputs": [
    {
     "name": "stdout",
     "output_type": "stream",
     "text": [
      "(2, 2, 2)\n",
      "[[[1. 1.]\n",
      "  [1. 1.]]\n",
      "\n",
      " [[1. 1.]\n",
      "  [1. 1.]]]\n"
     ]
    }
   ],
   "source": [
    "A = np.array([ \n",
    "    [[1,2], [3, 4]], \n",
    "    [[5,6], [7, 8]]]) \n",
    "\n",
    "B = np.array([ \n",
    "    [[1,2], [3, 4]], \n",
    "    [[5,6], [7, 8]]]) \n",
    "\n",
    "print(A.shape)\n",
    "\n",
    "C = A / B\n",
    "print(C)"
   ]
  },
  {
   "cell_type": "markdown",
   "metadata": {},
   "source": [
    "We passed basics of Linear Algebra. In advances lecture we will talk about tensor products, vector norms, types of matrices, matix decomposition, \n",
    "eigen decomposotion, singular value decomposition, principal component analysis."
   ]
  },
  {
   "cell_type": "code",
   "execution_count": null,
   "metadata": {},
   "outputs": [],
   "source": []
  }
 ],
 "metadata": {
  "kernelspec": {
   "display_name": "Python 3",
   "language": "python",
   "name": "python3"
  },
  "language_info": {
   "codemirror_mode": {
    "name": "ipython",
    "version": 3
   },
   "file_extension": ".py",
   "mimetype": "text/x-python",
   "name": "python",
   "nbconvert_exporter": "python",
   "pygments_lexer": "ipython3",
   "version": "3.6.7"
  }
 },
 "nbformat": 4,
 "nbformat_minor": 2
}
