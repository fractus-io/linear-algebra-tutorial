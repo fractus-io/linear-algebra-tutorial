{
 "cells": [
  {
   "cell_type": "markdown",
   "metadata": {},
   "source": [
    "### Linear Algebra\n",
    "\n",
    "#### Introduction\n",
    "\n",
    "Linear algebra is a form of mathematics, which is basis for many Machine Learning algorithms, especially Deep Learning algorithms.\n",
    "Many computer scientists have little or no experience with it, even a good understanding of linear algebra is essential for understanding and working in the field of the Machine and Deep Learning.\n",
    "\n",
    "Linear Algebra is a relatively young field of study, having initially been formalized in the 1800s in order\n",
    "to find unknowns in systems of linear equations. Linear Algebra is a continuous form of mathematics and is applied throughout science and engineering. Linear Algebra is also central to almost all areas of mathematics like geometry and functional analysis. \n",
    "\n",
    "Therefore Linear Algebra is used in many domains like:\n",
    "\n",
    "* Graphs and Networks analysis \n",
    "* Population growth analysis\n",
    "* Linear Programming, the simplex optimization method\n",
    "* Fourier Series, signal processing\n",
    "* Statistics and probability, least squares for regression\n",
    "* Computer Graphics, such as the translation, rescaling and rotation of images\n",
    "\n",
    "\n",
    "#### Linear Algebra in Machine Learning\n",
    "\n",
    "Linear Algebra is foundation for the Machine Learning. Datasets, images, one hot encodings, deep learning algortihms are based on the principles of the Linear Algebra. Let's see some common examples: \n",
    "\n",
    "#### Datasets\n",
    "\n",
    "In Machine Learning, it is common that model is build based on a dataset. Dataset is very often table with rows and columns, \n",
    "where each row represents an observation and column represents a feature of the observation. For example below is part of the\n",
    "dataset from bank which contains historical behavior of the customers(customer churn prediction):\n",
    "\n",
    "```\n",
    "RowNumber,CustomerId,Surname,CreditScore,Geography,Gender,Age,Tenure,Balance,NumOfProducts,HasCrCard,IsActiveMember,EstimatedSalary,Exited\n",
    "1,15634602,Hargrave,619,France,Female,42,2,0,1,1,1,101348.88,1\n",
    "2,15647311,Hill,608,Spain,Female,41,1,83807.86,1,0,1,112542.58,0\n",
    "3,15619304,Onio,502,France,Female,42,8,159660.8,3,1,0,113931.57,1\n",
    "4,15701354,Boni,699,France,Female,39,1,0,2,0,0,93826.63,0\n",
    "5,15737888,Mitchell,850,Spain,Female,43,2,125510.82,1,1,1,79084.1,0\n",
    "6,15574012,Chu,645,Spain,Male,44,8,113755.78,2,1,0,149756.71,1\n",
    "```\n",
    "\n",
    "As you can see, dataset is an matrix, which is key data structure in Linear Algebra. Last column shows information did customer leaved the bank or not, and we extract last column in separated dataset, we will have vector which is another important data structure in Linear Algebra.\n",
    "\n",
    "\n",
    "#### Images\n",
    "\n",
    "Image consist of a set of the pixels. For a grayscale image each pixel is a scalar value from 0 to 255. Image has widht and height, so grayscale image is represented as matrix. \n",
    "Color images has one matrix per color(Red, Green, Blue), so here we are talking about tensor with 3 dimension.\n",
    "\n",
    "Operations on the image, such as cropping, scaling, shearing and so on are all described using the notation and operations of\n",
    "linear algebra.\n",
    "\n",
    "\n",
    "#### Encoding\n",
    "\n",
    "As you can see above, not all data in dataset is numerical, some values can be defined as text, check above columns Geography and Gender. Gender column can be encoded as Label Encoder in classes 0 or 1. \n",
    "\n",
    "If we apply same approach for Geography column, countries will be defined as 0, 1, 2 etc. This is not right approach, therefore in such a cases we can use One Hot Encoder.\n",
    "\n",
    "#### Linear Reggression\n",
    "\n",
    "Linear regression is often used in machine learning for predicting numerical values in simpler\n",
    "regression problems. The most common way of solving linear regression is via a least squares\n",
    "optimization that is solved using matrix factorization methods from linear regression, such as\n",
    "an LU decomposition or an singular-value decomposition or SVD.\n",
    "\n",
    "\n",
    "#### PCA, SVD, ...\n",
    "\n",
    "#### Recommendation systems\n",
    "\n",
    "If you go to popular web sites like Amazon or Netflix and if you search for some items, site will recommend simira item based on yours previous activitie. The development of Recommendation systems is primarily is based on linear algebra methods. \n",
    "\n",
    "A simple example is in the calculation of the similarity between sparse customer behavior vectors using distance measures such as Euclidean distance or dot products. \n",
    "\n",
    "Matrix factorization methods like the singular-value decomposition are used widely in recommender systems to distill item and user data to their essence for querying and searching and comparison.\n",
    "\n",
    "\n",
    "#### Deep Learning\n",
    "\n",
    "\n",
    "In Deep Learning Neural Networks, data is represented by linear equations, which are presented in the form of Linear Algebra objects like matrices and vectors. Algorithms which are used to train neural networks, consist of Linear Algreba operations, such as add, multiply, subtract, etc.\n",
    "\n",
    "Linear algebra provides the first steps into vectorisation, presenting a deeper way of thinking about parallelisation of certain operations. Algorithms written in standard 'for-loop' notation can be reformulated as matrix equations providing significant gains in computational efficiency.\n",
    "\n",
    "Such methods are used in the major Python libraries such as NumPy, SciPy, Scikit-Learn, Pandas and Tensorflow. \n",
    "GPUs have been designed to carry out optimised linear algebra operations. The explosive growth in Deep Learning can partially be attributed to the highly parallelised nature of the \n",
    "underlying algorithms on commodity GPU hardware.\n",
    "\n",
    "#### Fundamental objects of the Linear Algebra\n",
    "\n",
    "The fundamental objects in Linear Algebra are \n",
    "* Scalars   \n",
    "* Vectors   \n",
    "* Matrices   \n",
    "* Tensors\n",
    "\n",
    "So, let's dig deeper in fundamental Linear Algebra objects\n",
    "\n",
    "##### Scalars\n",
    "\n",
    "Scalar is a single number. Scalar is example of a 0th-order tensor.   \n",
    "Python built-in scalar types are int, float, complex, bytes, Unicode. \n",
    "In NumPy, there are 24 fundamental data types which are described in NumPy section.\n",
    "\n",
    "We can declare two variables of type int and float using standard Python notation and check with NumPy are those variables scalars or not:\n"
   ]
  },
  {
   "cell_type": "code",
   "execution_count": 30,
   "metadata": {},
   "outputs": [
    {
     "name": "stdout",
     "output_type": "stream",
     "text": [
      "True\n",
      "True\n"
     ]
    }
   ],
   "source": [
    "import numpy as np\n",
    "\n",
    "x = 1.0\n",
    "y = 1\n",
    "\n",
    "print(np.isscalar(x))\n",
    "print(np.isscalar(y))"
   ]
  },
  {
   "cell_type": "markdown",
   "metadata": {},
   "source": [
    "##### Vectors\n",
    "\n",
    "A vector is a one dimensional list or array of single numbers and is an example of 1st-order tensor. \n",
    "Vector is a matrix with a single column or a row. Vector has single index which points to specific value within the Vector.\n",
    "\n",
    "We can declare vector in Python on a few ways:\n"
   ]
  },
  {
   "cell_type": "code",
   "execution_count": 31,
   "metadata": {},
   "outputs": [
    {
     "name": "stdout",
     "output_type": "stream",
     "text": [
      "[0 1 2 3 4 5 6 7 8 9]\n",
      "[0 1 2 3 4 5 6 7 8 9]\n",
      "[10, 20, 30]\n"
     ]
    }
   ],
   "source": [
    "x = np.arange(10)\n",
    "print(x)\n",
    "\n",
    "y = np.array([0, 1, 2, 3, 4, 5, 6, 7, 8, 9])\n",
    "print(y)\n",
    "\n",
    "z = [10, 20, 30]\n",
    "print(z)\n"
   ]
  },
  {
   "cell_type": "markdown",
   "metadata": {},
   "source": [
    "Element of the vector can be accessed using index syntax:"
   ]
  },
  {
   "cell_type": "code",
   "execution_count": 32,
   "metadata": {},
   "outputs": [
    {
     "name": "stdout",
     "output_type": "stream",
     "text": [
      "1\n",
      "1\n",
      "20\n"
     ]
    }
   ],
   "source": [
    "print(x[1])\n",
    "print(y[1])\n",
    "print(z[1])\n"
   ]
  },
  {
   "cell_type": "markdown",
   "metadata": {},
   "source": [
    "##### Matrices\n",
    "\n",
    "Matrix is two dimensional array of numbers and is an example of 2nd-order tensors. \n",
    "Matrix has two indexes, first one points to the row and the second one to the column. \n",
    "A Matrix can have multiple numbers of rows and columns. \n",
    "Dimensions of a matrix is described in terms of rows and columns.\n",
    "\n",
    "\n",
    "Vector is a Matrix as well, but with only one row or one column.\n",
    "\n",
    "In Python, we use NumPy in order to create n-dimensional arrays. \n",
    "N-dimensional arrays are basically matrices, so we use matrix method and pass in the lists and thereby defining a matrix.\n"
   ]
  },
  {
   "cell_type": "code",
   "execution_count": 33,
   "metadata": {},
   "outputs": [
    {
     "name": "stdout",
     "output_type": "stream",
     "text": [
      "[[0 1 2]\n",
      " [3 4 5]\n",
      " [6 7 8]]\n",
      "(3, 3)\n",
      "[[1 2 3]\n",
      " [4 5 6]]\n",
      "(2, 3)\n"
     ]
    }
   ],
   "source": [
    "a = np.arange(9).reshape(3,3)\n",
    "\n",
    "print(a)\n",
    "print(a.shape)\n",
    "\n",
    "b = np.array([\n",
    " [1,2,3], \n",
    " [4,5,6]\n",
    "])\n",
    "\n",
    "print(b)\n",
    "print(b.shape)"
   ]
  },
  {
   "cell_type": "markdown",
   "metadata": {},
   "source": [
    "Element of the matrix can be accessed using syntax:"
   ]
  },
  {
   "cell_type": "code",
   "execution_count": 34,
   "metadata": {},
   "outputs": [
    {
     "name": "stdout",
     "output_type": "stream",
     "text": [
      "0\n",
      "2\n"
     ]
    }
   ],
   "source": [
    "firstMatrixElement = a[0][0]\n",
    "print(firstMatrixElement)\n",
    "\n",
    "print(b[0][1])\n"
   ]
  },
  {
   "cell_type": "markdown",
   "metadata": {},
   "source": [
    "##### Tensors\n",
    "\n",
    "Tensor is a multidimensional array of numbers, arranged on a regular grid, with a variable number of axes. \n",
    "A Tensor has three indexes, first one points to the row, the second to the column and the third one to the axis. \n",
    "\n",
    "Tensor is the most general term for all of mentioned concepts, because a Tensor can be a Vector and a Matrix, \n",
    "depending on the number of indexes it has. \n",
    "\n",
    "In Python, we use NumPy in order to create n-dimensional arrays. \n"
   ]
  },
  {
   "cell_type": "code",
   "execution_count": 35,
   "metadata": {},
   "outputs": [
    {
     "name": "stdout",
     "output_type": "stream",
     "text": [
      "[[[ 1  2  3]\n",
      "  [ 4  5  6]\n",
      "  [ 7  8  9]]\n",
      "\n",
      " [[11 12 13]\n",
      "  [14 15 16]\n",
      "  [17 18 19]]\n",
      "\n",
      " [[21 22 23]\n",
      "  [24 25 26]\n",
      "  [27 28 29]]]\n",
      "(3, 3, 3)\n"
     ]
    }
   ],
   "source": [
    "t = np.array([\n",
    "  [[1,2,3],    [4,5,6],    [7,8,9]],\n",
    "  [[11,12,13], [14,15,16], [17,18,19]],\n",
    "  [[21,22,23], [24,25,26], [27,28,29]],\n",
    "  ])\n",
    "\n",
    "print(t)\n",
    "print(t.shape)"
   ]
  },
  {
   "cell_type": "markdown",
   "metadata": {},
   "source": [
    "Element of the tensor can be accessed as follows:"
   ]
  },
  {
   "cell_type": "code",
   "execution_count": 36,
   "metadata": {},
   "outputs": [
    {
     "name": "stdout",
     "output_type": "stream",
     "text": [
      "[[1 2 3]\n",
      " [4 5 6]\n",
      " [7 8 9]]\n",
      "[1 2 3]\n",
      "1\n"
     ]
    }
   ],
   "source": [
    "print(t[0])\n",
    "print(t[0][0])\n",
    "print(t[0][0][0])"
   ]
  },
  {
   "cell_type": "markdown",
   "metadata": {},
   "source": [
    "#### Vectors Arithmetic\n",
    "\n",
    "##### Scalar operations on Vectors\n",
    "\n",
    "Scalar operations involve a vector and a number(scalar). \n",
    "Vector can be modified by adding, subtracting, or multiplying the number(scalar) from all the values in the vector.\n",
    "\n",
    "The multiplication is prefomed on each element of the vector to result in a new scaled vector of same length.\n",
    "\n",
    "***c = s X v***\n",
    "\n",
    "Now if we have vector with 3 elements:\n",
    "...\n",
    "\n",
    "result will be:   \n",
    "\n",
    "***c = (s X v1, s X v2, s X v3)***\n",
    "\n",
    "or on another way:   \n",
    "\n",
    "***c[0] = v[0] X s***   \n",
    "***c[1] = v[1] X s***   \n",
    "***c[2] = v[2] X s***   \n",
    "\n",
    "Same rule is used for addition, substraction and division.\n",
    "\n",
    "Let's se example with NumPy:"
   ]
  },
  {
   "cell_type": "code",
   "execution_count": 37,
   "metadata": {},
   "outputs": [
    {
     "name": "stdout",
     "output_type": "stream",
     "text": [
      "[1 2 3]\n",
      "(3,)\n",
      "[11 12 13]\n",
      "[9 8 7]\n",
      "[10 20 30]\n",
      "[30. 15. 10.]\n",
      "[11 12 13]\n",
      "[-9 -8 -7]\n",
      "[10 20 30]\n",
      "[0.03333333 0.06666667 0.1       ]\n"
     ]
    }
   ],
   "source": [
    "a = np.array([1,2,3])\n",
    "\n",
    "print(a)\n",
    "print(a.shape)\n",
    "\n",
    "print(10 + a) # output [11 12 13]\n",
    "print(10 - a) # output [9 8 7]\n",
    "print(10 * a) # output [10 20 30]\n",
    "print(30 / a) # output [30. 15. 10]\n",
    "\n",
    "print(a + 10) # output [11 12 13]\n",
    "print(a - 10) # output [-9 -8 -7]\n",
    "print(a * 10) # output [10 20 30]\n",
    "\n",
    "print(a / 30) # output [0.0333. 0.066 0.1]"
   ]
  },
  {
   "cell_type": "markdown",
   "metadata": {},
   "source": [
    "##### Elementwise operations on Vectors\n",
    "\n",
    "In elementwise operations like addition, subtraction, and division, values that correspond positionally are combined to produce a new vector. \n",
    "The 1st value in vector A is paired with the 1st value in vector B. The 2nd value is paired with the 2nd, and so on. \n",
    "This means the vectors must have equal dimensions to complete the operation.\n",
    "\n",
    "###### Vector Addition\n",
    "\n",
    "Two vectors can be added to create new third vector:\n",
    "\n",
    "***c = a + b***\n",
    "\n",
    "New vector has same shape like other two vectors, result will be:   \n",
    "\n",
    "***c = (a1 + b1, a2 + b2, a3 + b3)***\n",
    "\n",
    "or on another way:   \n",
    "\n",
    "***c[0] = a[0] + b[0]***   \n",
    "***c[1] = a[1] + b[1]***   \n",
    "***c[2] = a[2] + b[2]***   \n",
    "\n",
    "Example:"
   ]
  },
  {
   "cell_type": "code",
   "execution_count": 38,
   "metadata": {
    "scrolled": true
   },
   "outputs": [
    {
     "name": "stdout",
     "output_type": "stream",
     "text": [
      "[1 2 3] [4 5 6] [5 7 9]\n"
     ]
    }
   ],
   "source": [
    "a = np.array([1,2,3])\n",
    "b = np.array([4,5,6])\n",
    "\n",
    "print(a, b, a + b) # output [5 7 9]\n"
   ]
  },
  {
   "cell_type": "markdown",
   "metadata": {},
   "source": [
    "###### Vector Subtraction\n",
    "\n",
    "One vector can be subtracted from another of equal shape to create new third vector:\n",
    "\n",
    "***c = a - b***\n",
    "\n",
    "New vector has same shape like other two vectors, result will be:   \n",
    "\n",
    "***c = (a1 - b1, a2 - b2, a3 - b3)***\n",
    "\n",
    "or on another way:   \n",
    "\n",
    "***c[0] = a[0] - b[0]***   \n",
    "***c[1] = a[1] - b[1]***   \n",
    "***c[2] = a[2] - b[2]***   \n",
    "\n",
    "Example:"
   ]
  },
  {
   "cell_type": "code",
   "execution_count": 39,
   "metadata": {},
   "outputs": [
    {
     "name": "stdout",
     "output_type": "stream",
     "text": [
      "[1 2 3] [4 5 6] [-3 -3 -3]\n"
     ]
    }
   ],
   "source": [
    "a = np.array([1,2,3])\n",
    "b = np.array([4,5,6])\n",
    "\n",
    "print(a, b, a - b) # output [-3 -3 -3]"
   ]
  },
  {
   "cell_type": "markdown",
   "metadata": {},
   "source": [
    "###### Vector Multiplication\n",
    "\n",
    "Two vectors of equal shape can be multiplied(Hadamard product) together:\n",
    "\n",
    "***c = a X b***\n",
    "\n",
    "New vector has same shape like other two vectors, result will be:   \n",
    "\n",
    "***c = (a1 X b1, a2 X b2, a3 X b3)***\n",
    "\n",
    "or on another way:   \n",
    "\n",
    "***c[0] = a[0] X b[0]***   \n",
    "***c[1] = a[1] X b[1]***   \n",
    "***c[2] = a[2] X b[2]***   \n",
    "\n",
    "Example:"
   ]
  },
  {
   "cell_type": "code",
   "execution_count": 40,
   "metadata": {},
   "outputs": [
    {
     "name": "stdout",
     "output_type": "stream",
     "text": [
      "[1 2 3] [4 5 6] [ 4 10 18]\n"
     ]
    }
   ],
   "source": [
    "a = np.array([1,2,3])\n",
    "b = np.array([4,5,6])\n",
    "\n",
    "print(a, b, a * b) # output [4 10 18]"
   ]
  },
  {
   "cell_type": "markdown",
   "metadata": {},
   "source": [
    "###### Vector Division\n",
    "\n",
    "Two vectors of equal shape can be divided:\n",
    "\n",
    "***c = a / b***\n",
    "\n",
    "New vector has same shape like other two vectors, result will be:   \n",
    "\n",
    "***c = (a1 / b1, a2 / b2, a3 / b3)***\n",
    "\n",
    "or on another way:   \n",
    "\n",
    "***c[0] = a[0] / b[0]***   \n",
    "***c[1] = a[1] / b[1]***   \n",
    "***c[2] = a[2] / b[2]***   \n",
    "\n",
    "Example:"
   ]
  },
  {
   "cell_type": "code",
   "execution_count": 41,
   "metadata": {},
   "outputs": [
    {
     "name": "stdout",
     "output_type": "stream",
     "text": [
      "[1 2 3] [1 2 3] [1. 1. 1.]\n"
     ]
    }
   ],
   "source": [
    "a = np.array([1,2,3])\n",
    "b = np.array([1,2,3])\n",
    "\n",
    "print(a, b, a / b) # output [1. 1. 1.]"
   ]
  },
  {
   "cell_type": "markdown",
   "metadata": {},
   "source": [
    "\n",
    "\n",
    "###### Dot product on Vectors\n",
    "\n",
    "The dot product of two vectors is a scalar. It is sum of the the multiplied elements of two vectors of the same shape.\n",
    "Dot product of vectors and matrices (matrix multiplication) is one of the most important operations in Deep Learning.\n",
    "\n",
    "***c = a . b***\n",
    "\n",
    "New vector has same shape like other two vectors, result will be:   \n",
    "\n",
    "***c = (a1 X b1 + a2 X b2 + a3 X b3)***\n",
    "\n",
    "or on another way:   \n",
    "\n",
    "***c[0] = a[0] X b[0] + a[1] X b[1] + a[2] X b[2]***   \n",
    "\n",
    "Example:"
   ]
  },
  {
   "cell_type": "code",
   "execution_count": 42,
   "metadata": {
    "scrolled": true
   },
   "outputs": [
    {
     "name": "stdout",
     "output_type": "stream",
     "text": [
      "11\n"
     ]
    }
   ],
   "source": [
    "a = np.array([1,2])\n",
    "b = np.array([3,4])\n",
    "\n",
    "print(np.dot(a,b)) # output a1*b1 + a2*b2 = 11"
   ]
  },
  {
   "cell_type": "markdown",
   "metadata": {},
   "source": [
    "#### Matrices Arithmetic\n",
    "\n",
    "##### Scalar operations\n",
    "\n",
    "Scalar operations with matrices works the same way as they do for vectors. \n",
    "Simply apply the scalar to every element in the matrix add, subtract, divide, multiply, etc.\n",
    "\n",
    "The multiplication is prefomed on each element of the matri. The result is scaled matrix of the same shape as parent matrix.\n",
    "\n",
    "***C = Av***\n",
    "\n",
    "Now if we have matrix with 3 rows and 2 columns, result will be:   \n",
    "\n",
    "\n",
    "***C[0, 0] = A[0, 0] X b***   \n",
    "***C[1, 0] = A[1, 0] X b***   \n",
    "***C[2, 0] = A[2, 0] X b***   \n",
    "***C[0, 1] = A[0, 1] X b***   \n",
    "***C[1, 1] = A[1, 1] X b***   \n",
    "***C[2, 1] = A[2, 1] X b***   \n",
    "\n",
    "Same rule is used for addition, substraction and division.\n",
    "\n",
    "Let's see example with NumPy:"
   ]
  },
  {
   "cell_type": "code",
   "execution_count": 43,
   "metadata": {
    "scrolled": true
   },
   "outputs": [
    {
     "name": "stdout",
     "output_type": "stream",
     "text": [
      "[[1 2 3]\n",
      " [4 5 6]]\n",
      "(2, 3)\n",
      "[[11 12 13]\n",
      " [14 15 16]]\n",
      "[[9 8 7]\n",
      " [6 5 4]]\n",
      "[[10 20 30]\n",
      " [40 50 60]]\n",
      "[[10.          5.          3.33333333]\n",
      " [ 2.5         2.          1.66666667]]\n"
     ]
    }
   ],
   "source": [
    "a = np.array([[1,2,3], [4, 5, 6]])\n",
    "\n",
    "print(a)\n",
    "print(a.shape)\n",
    "\n",
    "print(10 + a) # output [[11 12 13][14 15 16]]\n",
    "print(10 - a) # output [[9 8 7] [6 5 4]]\n",
    "print(10 * a) # output [[10 20 30] [40 50 60]]\n",
    "print(10 / a) # output [[10. 5. 3.33] [2.5 2. 1.66]]"
   ]
  },
  {
   "cell_type": "markdown",
   "metadata": {},
   "source": [
    "\n",
    "##### Elementwise operations\n",
    "\n",
    "In order to add, subtract, or divide two matrices they must have equal dimensions.\n",
    "We combine corresponding values in an elementwise fashion to produce a new matrix.\n",
    "\n",
    "This operation is fairly easy but requires both matrices of same dimension to perform the operation. \n",
    "The resulting matrix is of the same dimension. We have to just add the each value of first matrix with the corresponding value of the other matrix.\n",
    "\n",
    "###### Matrix Addition\n",
    "\n",
    "Two matrix can be added to create new third vector:\n",
    "\n",
    "***C = A + B***\n",
    "\n",
    "New matrix has same shape like other two matices, result will be:   \n",
    "\n",
    "***C[0, 0] = A[0, 0] + B[0, 0]***   \n",
    "***C[1, 0] = A[1, 0] + B[1, 0]***   \n",
    "***C[2, 0] = A[2, 0] + B[2, 0]***   \n",
    "***C[0, 1] = A[0, 1] + B[0, 1]***   \n",
    "***C[1, 1] = A[1, 1] + B[1, 1]***   \n",
    "***C[2, 1] = A[2, 1] + B[2, 1]***   \n",
    "\n",
    "Example:\n"
   ]
  },
  {
   "cell_type": "code",
   "execution_count": 44,
   "metadata": {},
   "outputs": [
    {
     "name": "stdout",
     "output_type": "stream",
     "text": [
      "[[2 4]\n",
      " [6 8]]\n"
     ]
    }
   ],
   "source": [
    "A = np.array([[1,2],[3, 4]])\n",
    "B = np.array([[1,2],[3, 4]])\n",
    "\n",
    "print(A + B)  # output [[2 4],[6 8]]"
   ]
  },
  {
   "cell_type": "markdown",
   "metadata": {},
   "source": [
    "###### Matrix Subtraction\n",
    "\n",
    "One matrix can be subtracted with another:\n",
    "\n",
    "***C = A - B***\n",
    "\n",
    "New matrix has same shape like other two matices, result will be:   \n",
    "\n",
    "***C[0, 0] = A[0, 0] - B[0, 0]***   \n",
    "***C[1, 0] = A[1, 0] - B[1, 0]***   \n",
    "***C[2, 0] = A[2, 0] - B[2, 0]***   \n",
    "***C[0, 1] = A[0, 1] - B[0, 1]***   \n",
    "***C[1, 1] = A[1, 1] - B[1, 1]***   \n",
    "***C[2, 1] = A[2, 1] - B[2, 1]***   \n",
    "\n",
    "Example:\n"
   ]
  },
  {
   "cell_type": "code",
   "execution_count": 45,
   "metadata": {},
   "outputs": [
    {
     "name": "stdout",
     "output_type": "stream",
     "text": [
      "[[0 0]\n",
      " [0 0]]\n"
     ]
    }
   ],
   "source": [
    "A = np.array([[1,2],[3, 4]])\n",
    "B = np.array([[1,2],[3, 4]])\n",
    "\n",
    "print(A - B)  # output [[0 0],[0 0]]"
   ]
  },
  {
   "cell_type": "markdown",
   "metadata": {},
   "source": [
    "###### Matrix Multiplication\n",
    "\n",
    "Two matrices can be multiplied together, and this is often called Hadamard product:\n",
    "\n",
    "***C = A o B***\n",
    "\n",
    "New matrix has same shape like other two matices, result will be:   \n",
    "\n",
    "***C[0, 0] = A[0, 0] X B[0, 0]***   \n",
    "***C[1, 0] = A[1, 0] X B[1, 0]***   \n",
    "***C[2, 0] = A[2, 0] X B[2, 0]***   \n",
    "***C[0, 1] = A[0, 1] X B[0, 1]***   \n",
    "***C[1, 1] = A[1, 1] X B[1, 1]***   \n",
    "***C[2, 1] = A[2, 1] X B[2, 1]***   \n",
    "\n",
    "Example:\n"
   ]
  },
  {
   "cell_type": "code",
   "execution_count": 46,
   "metadata": {},
   "outputs": [
    {
     "name": "stdout",
     "output_type": "stream",
     "text": [
      "[[ 1  4]\n",
      " [ 9 16]]\n"
     ]
    }
   ],
   "source": [
    "A = np.array([[1,2],[3, 4]])\n",
    "B = np.array([[1,2],[3, 4]])\n",
    "\n",
    "print(A * B)  # output [[1 4],[9 16]]"
   ]
  },
  {
   "cell_type": "markdown",
   "metadata": {},
   "source": [
    "###### Matrix Division\n",
    "\n",
    "Matrix can be divided by another matrix with same dimension:\n",
    "\n",
    "***C = A / B***\n",
    "\n",
    "New matrix has same shape like other two matices, result will be:   \n",
    "\n",
    "***C[0, 0] = A[0, 0] / B[0, 0]***   \n",
    "***C[1, 0] = A[1, 0] / B[1, 0]***   \n",
    "***C[2, 0] = A[2, 0] / B[2, 0]***   \n",
    "***C[0, 1] = A[0, 1] / B[0, 1]***   \n",
    "***C[1, 1] = A[1, 1] / B[1, 1]***   \n",
    "***C[2, 1] = A[2, 1] / B[2, 1]***   \n",
    "\n",
    "Example:\n"
   ]
  },
  {
   "cell_type": "code",
   "execution_count": 47,
   "metadata": {},
   "outputs": [
    {
     "name": "stdout",
     "output_type": "stream",
     "text": [
      "[[1. 1.]\n",
      " [1. 1.]]\n"
     ]
    }
   ],
   "source": [
    "A = np.array([[1,2],[3, 4]])\n",
    "B = np.array([[1,2],[3, 4]])\n",
    "\n",
    "print(A / B)  # output [[1. 1.],[1. 1.]]"
   ]
  },
  {
   "cell_type": "markdown",
   "metadata": {},
   "source": [
    "###### Matrix Multiplication\n",
    "\n",
    "Matrix multiplication is based on rules for multiplying matrices together to produce a new matrix.\n",
    "Not all matrices are eligible for multiplication. In addition, there is a requirement on the dimensions of the resulting matrix output. \n",
    "\n",
    "Rules:\n",
    "\n",
    " * The number of columns of the 1st matrix must be equal as number of rows of the 2nd matix   \n",
    " * The product of an M x N matrix and an N x K matrix is an M x K matrix. The new matrix takes the rows of the 1st and columns of the 2nd matrices\n",
    "\n",
    "The intuition for the matrix multiplication is that we are calculating the dot product between each row in matrix A with each column in matrix B.\n",
    "Matrix multiplication can be described using array notation:\n",
    "\n",
    "***C[0, 0] = A[0, 0] X B[0, 0] + A[0, 1] X B[1, 0]***   \n",
    "***C[1, 0] = A[1, 0] X B[0, 0] + A[1, 1] X B[1, 0]***   \n",
    "***C[2, 0] = A[2, 0] X B[0, 0] + A[2, 1] X B[1, 0]***   \n",
    "***C[0, 1] = A[0, 1] X B[0, 1] + A[0, 1] X B[1, 1]***   \n",
    "***C[1, 1] = A[1, 1] X B[0, 1] + A[1, 1] X B[1, 1]***   \n",
    "***C[2, 1] = A[2, 1] X B[0, 1] + A[2, 1] X B[1, 1]***   \n",
    "\n",
    "\n",
    "Example with NumPy:"
   ]
  },
  {
   "cell_type": "code",
   "execution_count": 48,
   "metadata": {},
   "outputs": [
    {
     "name": "stdout",
     "output_type": "stream",
     "text": [
      "(3, 2)\n",
      "(2, 3)\n",
      "[[ 5 11 17]\n",
      " [11 25 39]\n",
      " [17 39 61]]\n",
      "(3, 3)\n"
     ]
    }
   ],
   "source": [
    "a = np.array([\n",
    " [1, 2], \n",
    " [3, 4],\n",
    " [5, 6]\n",
    "])\n",
    "\n",
    "b = a.T # transpose, b = [[1 3 5] [2 4 6]]\n",
    "\n",
    "print(a.shape)\n",
    "print(b.shape)\n",
    "\n",
    "c = np.dot(a, b)\n",
    "\n",
    "print(c) # output 1st el. = a11*b11 + a12*b21 = 5, 2nd el. = a11*b12 + a12*b22 = 11, ... -> [[ 5 11 17] [11 25 39]  [17 39 61]]\n",
    "print(c.shape)"
   ]
  },
  {
   "cell_type": "markdown",
   "metadata": {
    "collapsed": true
   },
   "source": [
    "##### Matrix-Vector Multiplication\n",
    "\n",
    "Matrix and vector can be multiplied together as long as rule for the matrix multiplication is satisfied. Number of columns in the \n",
    "matrix must be equal to the number fo items in vector.\n",
    "\n",
    "***c = Av***\n",
    "\n",
    "Multiplication can be described using array notation:   \n",
    "\n",
    "\n",
    "***c[0] = A[0, 0] X v[0] + A[0, 1] X v[0]***   \n",
    "***c[1] = A[1, 0] X v[0] + A[1, 1] X v[1]***   \n",
    "***c[2] = A[2, 0] X v[0] + A[2, 1] X v[1]***   \n",
    "\n",
    "Let's see example:"
   ]
  },
  {
   "cell_type": "code",
   "execution_count": 49,
   "metadata": {},
   "outputs": [
    {
     "name": "stdout",
     "output_type": "stream",
     "text": [
      "(3, 2)\n",
      "(2,)\n",
      "[ 5 11 17]\n"
     ]
    }
   ],
   "source": [
    "a = np.array([\n",
    " [1, 2], \n",
    " [3, 4],\n",
    " [5, 6]\n",
    "])\n",
    "\n",
    "b = np.array([1, 2])\n",
    "\n",
    "print(a.shape)\n",
    "print(b.shape)\n",
    "\n",
    "c = np.dot(a, b)\n",
    "\n",
    "print(c) # output [ 5 11 17] "
   ]
  },
  {
   "cell_type": "markdown",
   "metadata": {},
   "source": [
    "#### Tensor Arithmetic\n",
    "\n",
    "We can perfom element-wise arithmetic between tensors.\n",
    "\n",
    "##### Tensor Addition\n",
    "\n",
    "Element-wise addition of two tensors with the same dimensions results in the new temsor with same dimensions.\n",
    "\n",
    "\n",
    "***C = A + B***\n",
    "\n",
    "Now if we have two tensors with shape (2, 2, 2), result will be:   \n",
    "\n",
    "\n",
    "***C[0, 0, 0] = A[0, 0, 0] + B[0, 0, 0]***   \n",
    "***C[0, 0, 1] = A[0, 0, 1] + B[0, 0, 0]***   \n",
    "\n",
    "***C[0, 1, 0] = A[0, 1, 0] + B[0, 1, 0]***   \n",
    "***C[0, 0, 1] = A[0, 0, 1] + B[0, 0, 1]***   \n",
    "\n",
    "***C[1, 0, 0] = A[1, 0, 0] + B[1, 0, 0]***   \n",
    "***C[1, 0, 1] = A[1, 0, 1] + B[1, 0, 1]***   \n",
    "\n",
    "***C[1, 1, 0] = A[1, 1, 0] + B[1, 1, 0]***   \n",
    "***C[1, 1, 1] = A[1, 1, 1] + B[1, 1, 1]***   \n",
    "\n",
    "\n",
    "Let's see example with NumPy:"
   ]
  },
  {
   "cell_type": "code",
   "execution_count": 67,
   "metadata": {},
   "outputs": [
    {
     "name": "stdout",
     "output_type": "stream",
     "text": [
      "(2, 2, 2)\n",
      "[[[ 2  4]\n",
      "  [ 6  8]]\n",
      "\n",
      " [[10 12]\n",
      "  [14 16]]]\n"
     ]
    }
   ],
   "source": [
    "A = np.array([ \n",
    "    [[1,2], [3, 4]], \n",
    "    [[5,6], [7, 8]]]) \n",
    "\n",
    "B = np.array([ \n",
    "    [[1,2], [3, 4]], \n",
    "    [[5,6], [7, 8]]]) \n",
    "\n",
    "print(A.shape)\n",
    "\n",
    "C = A + B\n",
    "print(C)"
   ]
  },
  {
   "cell_type": "markdown",
   "metadata": {},
   "source": [
    "##### Tensor Subtraction\n",
    "\n",
    "Element-wise subtraction of two tensors with the same dimensions results in the new temsor with same dimensions.\n",
    "\n",
    "\n",
    "***C = A - B***\n",
    "\n",
    "Now if we have two tensors with shape (2, 2, 2), result will be:   \n",
    "\n",
    "\n",
    "***C[0, 0, 0] = A[0, 0, 0] - B[0, 0, 0]***   \n",
    "***C[0, 0, 1] = A[0, 0, 1] - B[0, 0, 0]***   \n",
    "\n",
    "***C[0, 1, 0] = A[0, 1, 0] - B[0, 1, 0]***   \n",
    "***C[0, 0, 1] = A[0, 0, 1] - B[0, 0, 1]***   \n",
    "\n",
    "***C[1, 0, 0] = A[1, 0, 0] - B[1, 0, 0]***   \n",
    "***C[1, 0, 1] = A[1, 0, 1] - B[1, 0, 1]***   \n",
    "\n",
    "***C[1, 1, 0] = A[1, 1, 0] - B[1, 1, 0]***   \n",
    "***C[1, 1, 1] = A[1, 1, 1] - B[1, 1, 1]***   \n",
    "\n",
    "\n",
    "Let's see example with NumPy:"
   ]
  },
  {
   "cell_type": "code",
   "execution_count": 68,
   "metadata": {},
   "outputs": [
    {
     "name": "stdout",
     "output_type": "stream",
     "text": [
      "(2, 2, 2)\n",
      "[[[0 0]\n",
      "  [0 0]]\n",
      "\n",
      " [[0 0]\n",
      "  [0 0]]]\n"
     ]
    }
   ],
   "source": [
    "A = np.array([ \n",
    "    [[1,2], [3, 4]], \n",
    "    [[5,6], [7, 8]]]) \n",
    "\n",
    "B = np.array([ \n",
    "    [[1,2], [3, 4]], \n",
    "    [[5,6], [7, 8]]]) \n",
    "\n",
    "print(A.shape)\n",
    "\n",
    "C = A - B\n",
    "print(C)"
   ]
  },
  {
   "cell_type": "markdown",
   "metadata": {},
   "source": [
    "##### Tensor Multiplication\n",
    "\n",
    "Element-wise multiplication of two tensors with the same dimensions results in the new temsor with same dimensions.\n",
    "Operation is called Hadamard product.\n",
    "\n",
    "\n",
    "***C = A o B***\n",
    "\n",
    "Now if we have two tensors with shape (2, 2, 2), result will be:   \n",
    "\n",
    "\n",
    "***C[0, 0, 0] = A[0, 0, 0] o B[0, 0, 0]***   \n",
    "***C[0, 0, 1] = A[0, 0, 1] o B[0, 0, 0]***   \n",
    "\n",
    "***C[0, 1, 0] = A[0, 1, 0] o B[0, 1, 0]***   \n",
    "***C[0, 0, 1] = A[0, 0, 1] o B[0, 0, 1]***   \n",
    "\n",
    "***C[1, 0, 0] = A[1, 0, 0] o B[1, 0, 0]***   \n",
    "***C[1, 0, 1] = A[1, 0, 1] o B[1, 0, 1]***   \n",
    "\n",
    "***C[1, 1, 0] = A[1, 1, 0] o B[1, 1, 0]***   \n",
    "***C[1, 1, 1] = A[1, 1, 1] o B[1, 1, 1]***   \n",
    "\n",
    "\n",
    "Let's see example with NumPy:"
   ]
  },
  {
   "cell_type": "code",
   "execution_count": 69,
   "metadata": {},
   "outputs": [
    {
     "name": "stdout",
     "output_type": "stream",
     "text": [
      "(2, 2, 2)\n",
      "[[[ 1  4]\n",
      "  [ 9 16]]\n",
      "\n",
      " [[25 36]\n",
      "  [49 64]]]\n"
     ]
    }
   ],
   "source": [
    "A = np.array([ \n",
    "    [[1,2], [3, 4]], \n",
    "    [[5,6], [7, 8]]]) \n",
    "\n",
    "B = np.array([ \n",
    "    [[1,2], [3, 4]], \n",
    "    [[5,6], [7, 8]]]) \n",
    "\n",
    "print(A.shape)\n",
    "\n",
    "C = A * B\n",
    "print(C)"
   ]
  },
  {
   "cell_type": "markdown",
   "metadata": {},
   "source": [
    "##### Tensor Division\n",
    "\n",
    "Element-wise division of two tensors with the same dimensions results in the new temsor with same dimensions.\n",
    "\n",
    "***C = A / B***\n",
    "\n",
    "Now if we have two tensors with shape (2, 2, 2), result will be:   \n",
    "\n",
    "\n",
    "***C[0, 0, 0] = A[0, 0, 0] / B[0, 0, 0]***   \n",
    "***C[0, 0, 1] = A[0, 0, 1] / B[0, 0, 0]***   \n",
    "\n",
    "***C[0, 1, 0] = A[0, 1, 0] / B[0, 1, 0]***   \n",
    "***C[0, 0, 1] = A[0, 0, 1] / B[0, 0, 1]***   \n",
    "\n",
    "***C[1, 0, 0] = A[1, 0, 0] / B[1, 0, 0]***   \n",
    "***C[1, 0, 1] = A[1, 0, 1] / B[1, 0, 1]***   \n",
    "\n",
    "***C[1, 1, 0] = A[1, 1, 0] / B[1, 1, 0]***   \n",
    "***C[1, 1, 1] = A[1, 1, 1] / B[1, 1, 1]***   \n",
    "\n",
    "\n",
    "Let's see example with NumPy:"
   ]
  },
  {
   "cell_type": "code",
   "execution_count": 70,
   "metadata": {},
   "outputs": [
    {
     "name": "stdout",
     "output_type": "stream",
     "text": [
      "(2, 2, 2)\n",
      "[[[1. 1.]\n",
      "  [1. 1.]]\n",
      "\n",
      " [[1. 1.]\n",
      "  [1. 1.]]]\n"
     ]
    }
   ],
   "source": [
    "A = np.array([ \n",
    "    [[1,2], [3, 4]], \n",
    "    [[5,6], [7, 8]]]) \n",
    "\n",
    "B = np.array([ \n",
    "    [[1,2], [3, 4]], \n",
    "    [[5,6], [7, 8]]]) \n",
    "\n",
    "print(A.shape)\n",
    "\n",
    "C = A / B\n",
    "print(C)"
   ]
  },
  {
   "cell_type": "markdown",
   "metadata": {},
   "source": [
    "##### Tensor Product\n",
    "\n",
    "....\n",
    "\n",
    "***C = A / B***\n",
    "\n",
    "Now if we have two tensors with shape (2, 2, 2), result will be:   \n",
    "???\n",
    "\n",
    "\n",
    "***C[0, 0, 0] = A[0, 0, 0] / B[0, 0, 0]***   \n",
    "***C[0, 0, 1] = A[0, 0, 1] / B[0, 0, 0]***   \n",
    "\n",
    "***C[0, 1, 0] = A[0, 1, 0] / B[0, 1, 0]***   \n",
    "***C[0, 0, 1] = A[0, 0, 1] / B[0, 0, 1]***   \n",
    "\n",
    "***C[1, 0, 0] = A[1, 0, 0] / B[1, 0, 0]***   \n",
    "***C[1, 0, 1] = A[1, 0, 1] / B[1, 0, 1]***   \n",
    "\n",
    "***C[1, 1, 0] = A[1, 1, 0] / B[1, 1, 0]***   \n",
    "***C[1, 1, 1] = A[1, 1, 1] / B[1, 1, 1]***   \n",
    "\n",
    "\n",
    "Let's see example with NumPy:"
   ]
  },
  {
   "cell_type": "code",
   "execution_count": 80,
   "metadata": {},
   "outputs": [
    {
     "name": "stdout",
     "output_type": "stream",
     "text": [
      "(2, 2, 2)\n",
      "()\n",
      "204\n"
     ]
    }
   ],
   "source": [
    "A = np.array([ \n",
    "    [[1,2], [3, 4]], \n",
    "    [[5,6], [7, 8]]]) \n",
    "\n",
    "B = np.array([ \n",
    "    [[1,2], [3, 4]], \n",
    "    [[5,6], [7, 8]]]) \n",
    "\n",
    "print(A.shape)\n",
    "\n",
    "C = np.tensordot(A, B, axes = 3) # test various axes 0, 1, 2, 3 ???????\n",
    "print(C.shape)\n",
    "print(C)"
   ]
  },
  {
   "cell_type": "markdown",
   "metadata": {},
   "source": [
    "We passed basics of Linear Algebra. In advances lecture we will talk about vector norms, types of matrices, matix decomposition, \n",
    "eigen decomposotion, singular value decomposition, principal component analysis."
   ]
  },
  {
   "cell_type": "code",
   "execution_count": null,
   "metadata": {},
   "outputs": [],
   "source": []
  }
 ],
 "metadata": {
  "kernelspec": {
   "display_name": "Python 3",
   "language": "python",
   "name": "python3"
  },
  "language_info": {
   "codemirror_mode": {
    "name": "ipython",
    "version": 3
   },
   "file_extension": ".py",
   "mimetype": "text/x-python",
   "name": "python",
   "nbconvert_exporter": "python",
   "pygments_lexer": "ipython3",
   "version": "3.7.0"
  }
 },
 "nbformat": 4,
 "nbformat_minor": 2
}
