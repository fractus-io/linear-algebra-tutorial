{
 "cells": [
  {
   "cell_type": "markdown",
   "metadata": {},
   "source": [
    "#### Linear Algebra\n",
    "\n",
    "\n",
    "Linear algebra is a form of mathematics, which is basis for many Machine Learning algorithms, especially Deep Learning algorithms.\n",
    "Many computer scientists have little or no experience with it, even a good understanding of linear algebra is essential for understanding and working in the field of the Machine and Deep Learning.\n",
    "\n",
    "The conceptes behind Liner Algebra give you better intuition for how algorithms really work under the hood, which enables you to make better decisions. \n",
    "\n",
    "It is a relatively young field of study, having initially been formalized in the 1800s in order\n",
    "to find unknowns in systems of linear equations. Linear Algebra is a continuous form of mathematics and is applied throughout science and engineering. Linear Algebra is also central to almost all areas of mathematics like geometry and functional analysis. \n",
    "\n",
    "Therefore Linear Algebra is used in many domains like:\n",
    "\n",
    "* Graphs and Networks, analyzing networks.\n",
    "* Markov Matrices, Population, and Economics, population growth\n",
    "* Linear Programming, the simplex optimization method\n",
    "* Fourier Series: Linear Algebra for functions, signal processing\n",
    "* Statistics and probability, for example least squares for regression\n",
    "* Computer Graphics, such as the translation, rescaling and rotation of images\n",
    "\n",
    "\n",
    "In MachineLearning Linear Algebra is used as well. Some of the areas where Linear Algera is used are:\n",
    "\n",
    "* Datasets\n",
    "\n",
    "\n",
    "In Deep Learning Neural Networks, data is represented by linear equations, which are presented in the form of Linear Algebra objects like matrices and vectors\n",
    "Algorithms which are used to train neural networks, consist of Linear Algreba operations, such as add, multiply, subtract, etc.\n",
    "\n",
    "Linear algebra provides the first steps into vectorisation, presenting a deeper way of thinking about parallelisation of certain operations. \n",
    "Algorithms written in standard 'for-loop' notation can be reformulated as matrix equations providing significant gains in computational efficiency.\n",
    "\n",
    "Such methods are used in the major Python libraries such as NumPy, SciPy, Scikit-Learn, Pandas and Tensorflow. \n",
    "GPUs have been designed to carry out optimised linear algebra operations. The explosive growth in Deep Learning can partially be attributed to the highly parallelised nature of the \n",
    "underlying algorithms on commodity GPU hardware.\n",
    "\n",
    "The fundamental objects in Linear Algebra are \n",
    "* Scalars   \n",
    "* Vectors   \n",
    "* Matrices   \n",
    "* Tensors\n",
    "\n",
    "So, let's dig deeper in fundamental Linear Algebra objects\n",
    "\n",
    "##### Scalars\n",
    "\n",
    "Scalar is a single number. Scalar is example of a 0th-order tensor.   \n",
    "Python built-in scalar types are int, float, complex, bytes, Unicode. \n",
    "In NumPy, there are 24 fundamental data types which are described in NumPy section.\n",
    "\n",
    "We can declare two variables of type int and float using standard Python notation and check with NumPy are those variables scalars or not:\n"
   ]
  },
  {
   "cell_type": "code",
   "execution_count": 29,
   "metadata": {},
   "outputs": [
    {
     "name": "stdout",
     "output_type": "stream",
     "text": [
      "True\n",
      "True\n"
     ]
    }
   ],
   "source": [
    "import numpy as np\n",
    "\n",
    "x = 1.0\n",
    "y = 1\n",
    "\n",
    "print(np.isscalar(x))\n",
    "print(np.isscalar(y))"
   ]
  },
  {
   "cell_type": "markdown",
   "metadata": {},
   "source": [
    "##### Vectors\n",
    "\n",
    "A vector is a one dimensional list or array of single numbers and are an example of 1st-order tensor. \n",
    "Vector is a matrix with a single column or a row. Vector has single index which points to specific value within the Vector.\n",
    "\n",
    "We can declare vector in Python on a few ways:\n"
   ]
  },
  {
   "cell_type": "code",
   "execution_count": 7,
   "metadata": {},
   "outputs": [
    {
     "name": "stdout",
     "output_type": "stream",
     "text": [
      "[0 1 2 3 4 5 6 7 8 9]\n",
      "[0 1 2 3 4 5 6 7 8 9]\n",
      "[10, 20, 30]\n"
     ]
    }
   ],
   "source": [
    "x = np.arange(10)\n",
    "print(x)\n",
    "\n",
    "y = np.array([0, 1, 2, 3, 4, 5, 6, 7, 8, 9])\n",
    "print(y)\n",
    "\n",
    "z = [10, 20, 30]\n",
    "print(z)\n"
   ]
  },
  {
   "cell_type": "markdown",
   "metadata": {},
   "source": [
    "Element of the vector can be accessed using index syntax:"
   ]
  },
  {
   "cell_type": "code",
   "execution_count": 8,
   "metadata": {},
   "outputs": [
    {
     "name": "stdout",
     "output_type": "stream",
     "text": [
      "1\n",
      "1\n",
      "20\n"
     ]
    }
   ],
   "source": [
    "print(x[1])\n",
    "print(y[1])\n",
    "print(z[1])\n"
   ]
  },
  {
   "cell_type": "markdown",
   "metadata": {},
   "source": [
    "##### Matrices\n",
    "\n",
    "Matrix is two dimensional array of numbers and is an example of 2nd-order tensors. \n",
    "Matrix has two indexes, first one points to the row and the second one to the column. \n",
    "A Matrix can have multiple numbers of rows and columns. \n",
    "Dimensions of a matrix is described in terms of rows and columns.\n",
    "\n",
    "\n",
    "Vector is a Matrix as well, but with only one row or one column.\n",
    "\n",
    "In Python, we use NumPy in order to create n-dimensional arrays. \n",
    "N-dimensional arrays are basically matrices, so we use matrix method and pass in the lists and thereby defining a matrix.\n"
   ]
  },
  {
   "cell_type": "code",
   "execution_count": 12,
   "metadata": {},
   "outputs": [
    {
     "name": "stdout",
     "output_type": "stream",
     "text": [
      "[[0 1 2]\n",
      " [3 4 5]\n",
      " [6 7 8]]\n",
      "(3, 3)\n",
      "[[1 2 3]\n",
      " [4 5 6]]\n",
      "(2, 3)\n"
     ]
    }
   ],
   "source": [
    "a = np.arange(9).reshape(3,3)\n",
    "\n",
    "print(a)\n",
    "print(a.shape)\n",
    "\n",
    "b = np.array([\n",
    " [1,2,3], \n",
    " [4,5,6]\n",
    "])\n",
    "\n",
    "print(b)\n",
    "print(b.shape)"
   ]
  },
  {
   "cell_type": "markdown",
   "metadata": {},
   "source": [
    "Element of the matrix can be accessed using syntax:"
   ]
  },
  {
   "cell_type": "code",
   "execution_count": 13,
   "metadata": {},
   "outputs": [
    {
     "name": "stdout",
     "output_type": "stream",
     "text": [
      "0\n",
      "2\n"
     ]
    }
   ],
   "source": [
    "firstMatrixElement = a[0][0]\n",
    "print(firstMatrixElement)\n",
    "\n",
    "print(b[0][1])\n"
   ]
  },
  {
   "cell_type": "markdown",
   "metadata": {},
   "source": [
    "##### Tensors\n",
    "\n",
    "Tensor is a multidimensional array of numbers, arranged on a regular grid, with a variable number of axes. \n",
    "A Tensor has three indexes, first one points to the row, the second to the column and the third one to the axis. \n",
    "\n",
    "Tensor is the most general term for all of these concepts above because a Tensor can be a Vector and a Matrix, \n",
    "depending on the number of indexes it has. \n",
    "\n",
    "In Python, we use NumPy in order to create n-dimensional arrays. \n"
   ]
  },
  {
   "cell_type": "code",
   "execution_count": 14,
   "metadata": {},
   "outputs": [
    {
     "name": "stdout",
     "output_type": "stream",
     "text": [
      "[[[ 1  2  3]\n",
      "  [ 4  5  6]\n",
      "  [ 7  8  9]]\n",
      "\n",
      " [[11 12 13]\n",
      "  [14 15 16]\n",
      "  [17 18 19]]\n",
      "\n",
      " [[21 22 23]\n",
      "  [24 25 26]\n",
      "  [27 28 29]]]\n",
      "(3, 3, 3)\n"
     ]
    }
   ],
   "source": [
    "t = np.array([\n",
    "  [[1,2,3],    [4,5,6],    [7,8,9]],\n",
    "  [[11,12,13], [14,15,16], [17,18,19]],\n",
    "  [[21,22,23], [24,25,26], [27,28,29]],\n",
    "  ])\n",
    "\n",
    "print(t)\n",
    "print(t.shape)"
   ]
  },
  {
   "cell_type": "markdown",
   "metadata": {},
   "source": [
    "Element of the tensor can be accessed as follows:"
   ]
  },
  {
   "cell_type": "code",
   "execution_count": 17,
   "metadata": {},
   "outputs": [
    {
     "name": "stdout",
     "output_type": "stream",
     "text": [
      "[[1 2 3]\n",
      " [4 5 6]\n",
      " [7 8 9]]\n",
      "[1 2 3]\n",
      "1\n"
     ]
    }
   ],
   "source": [
    "print(t[0])\n",
    "print(t[0][0])\n",
    "print(t[0][0][0])"
   ]
  },
  {
   "cell_type": "markdown",
   "metadata": {},
   "source": [
    "##### Algebra\n",
    "\n",
    "##### Vectors\n",
    "\n",
    "###### Scalar operations on Vectors\n",
    "\n",
    "Scalar operations involve a vector and a number(scalar). \n",
    "Vector can be modified by adding, subtracting, or multiplying the number from all the values in the vector.\n"
   ]
  },
  {
   "cell_type": "code",
   "execution_count": 19,
   "metadata": {},
   "outputs": [
    {
     "name": "stdout",
     "output_type": "stream",
     "text": [
      "[1 2 3]\n",
      "(3,)\n",
      "[11 12 13]\n",
      "[9 8 7]\n",
      "[10 20 30]\n"
     ]
    }
   ],
   "source": [
    "a = np.array([1,2,3])\n",
    "\n",
    "print(a)\n",
    "print(a.shape)\n",
    "\n",
    "print(10 + a) # output [11 12 13]\n",
    "print(10 - a) # output [9 8 7]\n",
    "print(10 * a) # output [10 20 30]"
   ]
  },
  {
   "cell_type": "markdown",
   "metadata": {},
   "source": [
    "###### Elementwise operations on Vectors\n",
    "\n",
    "In elementwise operations like addition, subtraction, and division, values that correspond positionally are combined to produce a new vector. \n",
    "The 1st value in vector A is paired with the 1st value in vector B. The 2nd value is paired with the 2nd, and so on. \n",
    "This means the vectors must have equal dimensions to complete the operation\n"
   ]
  },
  {
   "cell_type": "code",
   "execution_count": 20,
   "metadata": {},
   "outputs": [
    {
     "name": "stdout",
     "output_type": "stream",
     "text": [
      "[1 2 3]\n",
      "[4 5 6]\n",
      "[5 7 9]\n",
      "[-3 -3 -3]\n",
      "[ 4 10 18]\n"
     ]
    }
   ],
   "source": [
    "a = np.array([1,2,3])\n",
    "b = np.array([4,5,6])\n",
    "\n",
    "print(a)\n",
    "print(b)\n",
    "\n",
    "print(a + b) # output [5 7 9]\n",
    "print(a - b) # output [-3 -3 -3]\n",
    "print(a * b) # output [ 4 10 18]"
   ]
  },
  {
   "cell_type": "markdown",
   "metadata": {},
   "source": [
    "###### Dot product on Vectors\n",
    "\n",
    "The dot product of two vectors is a scalar. \n",
    "Dot product of vectors and matrices (matrix multiplication) is one of the most important operations in Deep Learning.\n"
   ]
  },
  {
   "cell_type": "code",
   "execution_count": 21,
   "metadata": {},
   "outputs": [
    {
     "name": "stdout",
     "output_type": "stream",
     "text": [
      "285\n"
     ]
    }
   ],
   "source": [
    "a = np.array([1,2])\n",
    "b = np.array([3,4])\n",
    "\n",
    "print(np.dot(y,x)) # output a1*b1 + a2*b2 = 11"
   ]
  },
  {
   "cell_type": "markdown",
   "metadata": {},
   "source": [
    "###### Hadamard product on Vectors\n",
    "\n",
    "Hadamard Product is element wise multiplication and it outputs a vector.\n"
   ]
  },
  {
   "cell_type": "code",
   "execution_count": 22,
   "metadata": {},
   "outputs": [
    {
     "name": "stdout",
     "output_type": "stream",
     "text": [
      "[3 8]\n"
     ]
    }
   ],
   "source": [
    "a = np.array([1,2])\n",
    "b = np.array([3,4])\n",
    "\n",
    "print(a*b) # output [a1*b1 a2*b2] = [3 8]"
   ]
  },
  {
   "cell_type": "markdown",
   "metadata": {},
   "source": [
    "##### Matrices\n",
    "\n",
    "###### Scalar operations\n",
    "\n",
    "Scalar operations with matrices works the same way as they do for vectors. \n",
    "Simply apply the scalar to every element in the matrix add, subtract, divide, multiply, etc.\n"
   ]
  },
  {
   "cell_type": "code",
   "execution_count": 24,
   "metadata": {},
   "outputs": [
    {
     "name": "stdout",
     "output_type": "stream",
     "text": [
      "[[1 2 3]\n",
      " [4 5 6]]\n",
      "(2, 3)\n",
      "[[11 12 13]\n",
      " [14 15 16]]\n",
      "[[9 8 7]\n",
      " [6 5 4]]\n",
      "[[10 20 30]\n",
      " [40 50 60]]\n"
     ]
    }
   ],
   "source": [
    "a = np.array([[1,2,3], [4, 5, 6]])\n",
    "\n",
    "print(a)\n",
    "print(a.shape)\n",
    "\n",
    "print(10 + a) # output [[11 12 13][14 15 16]]\n",
    "print(10 - a) # output [[9 8 7] [6 5 4]]\n",
    "print(10 * a) # output [[10 20 30] [40 50 60]]"
   ]
  },
  {
   "cell_type": "markdown",
   "metadata": {},
   "source": [
    "\n",
    "###### Elementwise operations\n",
    "\n",
    "In order to add, subtract, or divide two matrices they must have equal dimensions.\n",
    "We combine corresponding values in an elementwise fashion to produce a new matrix.\n",
    "\n",
    "This operation is fairly easy but requires both matrices of same dimension to perform the operation. \n",
    "The resulting matrix is of the same dimension. We have to just add the each value of first matrix with the corresponding value of the other matrix.\n"
   ]
  },
  {
   "cell_type": "code",
   "execution_count": 25,
   "metadata": {},
   "outputs": [
    {
     "name": "stdout",
     "output_type": "stream",
     "text": [
      "[[2 4]\n",
      " [6 8]]\n",
      "[[0 0]\n",
      " [0 0]]\n"
     ]
    }
   ],
   "source": [
    "a = np.array([\n",
    " [1, 2], \n",
    " [3, 4]\n",
    "])\n",
    "\n",
    "b = np.array([\n",
    " [1, 2], \n",
    " [3, 4]\n",
    "])\n",
    "\n",
    "print(a + b)  # output [[2 4] [6 8]]\n",
    "print(a - b)  # output [[0 0] [0 0]]"
   ]
  },
  {
   "cell_type": "markdown",
   "metadata": {},
   "source": [
    "###### Hadamard product\n",
    "\n",
    "Hadamard product of matrices is an elementwise operation. Values that correspond positionally are multiplied to produce a new matrix."
   ]
  },
  {
   "cell_type": "code",
   "execution_count": 26,
   "metadata": {},
   "outputs": [
    {
     "name": "stdout",
     "output_type": "stream",
     "text": [
      "[[ 1  4]\n",
      " [ 9 16]]\n"
     ]
    }
   ],
   "source": [
    "a = np.array([\n",
    " [1, 2], \n",
    " [3, 4]\n",
    "])\n",
    "\n",
    "b = np.array([\n",
    " [1, 2], \n",
    " [3, 4]\n",
    "])\n",
    "\n",
    "print(a * b)  # output [[a1*b1 a2*b2] [a3*b3 a4*b4]] = [[1 4] [9 16]]"
   ]
  },
  {
   "cell_type": "markdown",
   "metadata": {},
   "source": [
    "###### Matrix multiplication\n",
    "\n",
    "Matrix multiplication is based on rules for multiplying matrices together to produce a new matrix.\n",
    "Not all matrices are eligible for multiplication. In addition, there is a requirement on the dimensions of the resulting matrix output. \n",
    "\n",
    "Rules:\n",
    "\n",
    " * The number of columns of the 1st matrix must equal the number of rows of the 2nd   \n",
    " * The product of an M x N matrix and an N x K matrix is an M x K matrix. The new matrix takes the rows of the 1st and columns of the 2nd matrices\n",
    "\n",
    "Matrix multiplication relies on dot product to multiply various combinations of rows and columns. \n"
   ]
  },
  {
   "cell_type": "code",
   "execution_count": 28,
   "metadata": {},
   "outputs": [
    {
     "name": "stdout",
     "output_type": "stream",
     "text": [
      "(3, 2)\n",
      "(2, 3)\n",
      "[[ 5 11 17]\n",
      " [11 25 39]\n",
      " [17 39 61]]\n",
      "(3, 3)\n"
     ]
    }
   ],
   "source": [
    "a = np.array([\n",
    " [1, 2], \n",
    " [3, 4],\n",
    " [5, 6]\n",
    "])\n",
    "\n",
    "b = a.T # transpose, b = [[1 3 5] [2 4 6]]\n",
    "\n",
    "print(a.shape)\n",
    "print(b.shape)\n",
    "\n",
    "c = np.dot(a, b)\n",
    "\n",
    "print(c) # output 1st el. = a11*b11 + a12*b21 = 5, 2nd el. = a11*b12 + a12*b22 = 11, ... -> [[ 5 11 17] [11 25 39]  [17 39 61]]\n",
    "print(c.shape)"
   ]
  },
  {
   "cell_type": "code",
   "execution_count": null,
   "metadata": {},
   "outputs": [],
   "source": []
  }
 ],
 "metadata": {
  "kernelspec": {
   "display_name": "Python 3",
   "language": "python",
   "name": "python3"
  },
  "language_info": {
   "codemirror_mode": {
    "name": "ipython",
    "version": 3
   },
   "file_extension": ".py",
   "mimetype": "text/x-python",
   "name": "python",
   "nbconvert_exporter": "python",
   "pygments_lexer": "ipython3",
   "version": "3.7.0"
  }
 },
 "nbformat": 4,
 "nbformat_minor": 2
}
