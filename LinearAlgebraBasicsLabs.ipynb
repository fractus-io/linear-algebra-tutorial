{
 "cells": [
  {
   "cell_type": "markdown",
   "metadata": {},
   "source": [
    "### Introduction\n",
    "\n",
    "Notebook contains set of the exercises realated to ***Linear Algebra Basics Tutorial***.   \n",
    "First we will load necessary Python modules, and then we will proceed with exercises:\n"
   ]
  },
  {
   "cell_type": "code",
   "execution_count": 55,
   "metadata": {
    "collapsed": true
   },
   "outputs": [],
   "source": [
    "import numpy as np\n",
    "import timeit"
   ]
  },
  {
   "cell_type": "markdown",
   "metadata": {},
   "source": [
    "### Exercise, matrix transpose:\n",
    "\n",
    "Transpose of a matrix is an operator which flips a matrix over its diagonal, switching the row and column indices of the \n",
    "matrix by producing another matrix denoted as AT.\n",
    "\n",
    "Create matrix with 5 rows and 3 columns, values should be initialized randomly. \n",
    "Apply transpose operator and check the new matrix. Apply transpose to new matrix again and resultng matrix will be the same as original matrix."
   ]
  },
  {
   "cell_type": "code",
   "execution_count": 67,
   "metadata": {},
   "outputs": [
    {
     "name": "stdout",
     "output_type": "stream",
     "text": [
      "(5, 3)\n",
      "[[4 7 9]\n",
      " [1 0 8]\n",
      " [0 3 7]\n",
      " [2 7 6]\n",
      " [4 8 1]]\n",
      "(3, 5)\n",
      "[[4 1 0 2 4]\n",
      " [7 0 3 7 8]\n",
      " [9 8 7 6 1]]\n",
      "(5, 3)\n",
      "[[4 7 9]\n",
      " [1 0 8]\n",
      " [0 3 7]\n",
      " [2 7 6]\n",
      " [4 8 1]]\n"
     ]
    }
   ],
   "source": [
    "A = np.random.randint(10, size=(5, 3))\n",
    "\n",
    "print(A.shape)\n",
    "print(A)\n",
    "\n",
    "B = A.T\n",
    "print(B.shape)\n",
    "print(B)\n",
    "\n",
    "C = np.transpose(B)\n",
    "print(C.shape)\n",
    "print(C)"
   ]
  },
  {
   "cell_type": "markdown",
   "metadata": {},
   "source": [
    "### Exercise, broadcasting:\n",
    "\n",
    "Possiblity to do operations on arrays of different sizes is called broadcasting.\n",
    "\n",
    "What will be result of following code:\n",
    "\n",
    "```\n",
    "A = np.array([[ 0,  0,  0],\n",
    "       [10, 10, 10],\n",
    "       [20, 20, 20],\n",
    "       [30, 30, 30]])\n",
    "B = np.array([0, 1, 2])\n",
    "\n",
    "print(A + B)\n",
    "```\n"
   ]
  },
  {
   "cell_type": "code",
   "execution_count": 79,
   "metadata": {},
   "outputs": [
    {
     "name": "stdout",
     "output_type": "stream",
     "text": [
      "[[ 0  1  2]\n",
      " [10 11 12]\n",
      " [20 21 22]\n",
      " [30 31 32]]\n"
     ]
    }
   ],
   "source": [
    "A = np.array([[ 0,  0,  0],\n",
    "       [10, 10, 10],\n",
    "       [20, 20, 20],\n",
    "       [30, 30, 30]])\n",
    "\n",
    "B = np.array([0, 1, 2])\n",
    "\n",
    "print(A + B)"
   ]
  },
  {
   "cell_type": "markdown",
   "metadata": {},
   "source": [
    "### Exercise, is matrix multiplication commutative: \n",
    "\n",
    "Create matrix with 3 rows and 2 columns, values should be initialized randomly. \n",
    "Check is matrix multiplication commutative. Use transpose for creation of the second matrix.\n",
    "\n",
    "In mathematics, a binary operation is commutative if changing the order of the operands does not change the result.   \n",
    "A X B = B X A\n",
    "\n",
    "Note: use NumPy dot() product and transpose function."
   ]
  },
  {
   "cell_type": "code",
   "execution_count": 50,
   "metadata": {},
   "outputs": [
    {
     "name": "stdout",
     "output_type": "stream",
     "text": [
      "(3, 2)\n",
      "(2, 3)\n",
      "[[3 4]\n",
      " [8 8]\n",
      " [6 5]]\n",
      "[[3 8 6]\n",
      " [4 8 5]]\n",
      "(3, 3)\n",
      "(2, 2)\n",
      "[[ 25  56  38]\n",
      " [ 56 128  88]\n",
      " [ 38  88  61]]\n",
      "[[109 106]\n",
      " [106 105]]\n"
     ]
    }
   ],
   "source": [
    "A = np.random.randint(10, size=(3, 2))\n",
    "B = A.T\n",
    "\n",
    "print(A.shape)\n",
    "print(B.shape)\n",
    "\n",
    "print(A)\n",
    "print(B)\n",
    "\n",
    "C = np.dot(A, B)\n",
    "D = np.dot(B, A)\n",
    "\n",
    "print(C.shape)\n",
    "print(D.shape)\n",
    "\n",
    "print(C)\n",
    "print(D)\n"
   ]
  },
  {
   "cell_type": "markdown",
   "metadata": {},
   "source": [
    "### Exercise, is matrix multiplication associative: \n",
    "\n",
    "Create 3 matrices with 3 rows and 3 columns, values should be initialized randomly. \n",
    "Check is matrix multiplication associative. \n",
    "\n",
    "Within an expression containing two or more occurrences in a row of the same associative operator, the order in which the operations are performed does not matter as long as the sequence of the operands is not changed. \n",
    "\n",
    "A(B X C) = (A X B)C\n",
    "\n",
    "Note: use NumPy dot() product and transpose function(for third matrix)"
   ]
  },
  {
   "cell_type": "code",
   "execution_count": 59,
   "metadata": {},
   "outputs": [
    {
     "name": "stdout",
     "output_type": "stream",
     "text": [
      "[[ 45 162 144]\n",
      " [ 69 108  78]\n",
      " [ 18  81  63]]\n",
      "[[108  54  63]\n",
      " [108  36 102]\n",
      " [135  54  72]]\n",
      "(3, 3)\n",
      "(3, 3)\n",
      "(3, 3)\n",
      "[[2556 1620 2889]\n",
      " [1656 1356 1881]\n",
      " [1206  756 1350]]\n",
      "[[2556 1620 2889]\n",
      " [1656 1356 1881]\n",
      " [1206  756 1350]]\n"
     ]
    }
   ],
   "source": [
    "A = np.random.randint(10, size=(3, 3))\n",
    "B = np.random.randint(10, size=(3, 3))\n",
    "C = B.T\n",
    "\n",
    "print(A.dot(B))\n",
    "print(B.dot(A))\n",
    "\n",
    "print(A.shape)\n",
    "print(B.shape)\n",
    "print(C.shape)\n",
    "\n",
    "print(A.dot(B.dot(C)))\n",
    "print(A.dot(B).dot(C))"
   ]
  },
  {
   "cell_type": "markdown",
   "metadata": {},
   "source": [
    "### Exercise, is matrix multiplication distributive: \n",
    "\n",
    "Create matrix with 3 rows and 2 columns, values should be initialized randomly. \n",
    "Check is matrix multiplication distributive. \n",
    "\n",
    "A(B + C) = (A X B) + (A X C)\n",
    "\n",
    "Note: use NumPy dot() product and transpose function(for third matrix)"
   ]
  },
  {
   "cell_type": "code",
   "execution_count": 54,
   "metadata": {},
   "outputs": [
    {
     "name": "stdout",
     "output_type": "stream",
     "text": [
      "[[ 84 116 103]\n",
      " [134 117 115]\n",
      " [132  54  78]]\n",
      "[[ 84 116 103]\n",
      " [134 117 115]\n",
      " [132  54  78]]\n"
     ]
    }
   ],
   "source": [
    "A = np.random.randint(10, size=(3, 3))\n",
    "B = np.random.randint(10, size=(3, 3))\n",
    "C = B.T\n",
    "\n",
    "print(A.dot(B + C))\n",
    "print(A.dot(B) + A.dot(C))"
   ]
  },
  {
   "cell_type": "markdown",
   "metadata": {},
   "source": [
    "### Exercise, compare matrix multiplication speed:\n",
    "\n",
    "Compare matrix-matrix multiplication speed by comparing pure Python matrix multiplication and NumPy matrix multiplication.\n",
    "\n",
    "Notes: \n",
    "\n",
    "* size of the matrix should be defined as parameter\n",
    "* matrix values should be initialized randomly\n",
    "* collect current time with functions: ```start = timeit.default_timer()```\n",
    "* pseudo code for pure Python matrix multiplication\n",
    "\n",
    "```\n",
    "resultPurePython = np.zeros((SIZE,SIZE))\n",
    "for i in range(SIZE):\n",
    "  for j in range(SIZE):\n",
    "    for k in range(SIZE):\n",
    "      resultPurePython[i,k] += A[i,j]*B[j,k]\n",
    "      \n",
    "```\n",
    "\n",
    "Practice of replacing explicit loops with array expressions is commonly referred to as ***vectorization***.   \n",
    "In general, vectorized array operations will often be one or two (or more) orders of magnitude faster than their pure Python equivalents.\n"
   ]
  },
  {
   "cell_type": "code",
   "execution_count": 71,
   "metadata": {},
   "outputs": [
    {
     "name": "stdout",
     "output_type": "stream",
     "text": [
      "0.10420954739220178\n",
      "0.00028681526782747824\n"
     ]
    }
   ],
   "source": [
    "\n",
    "# Set up the variables\n",
    "SIZE = 50\n",
    "A = np.random.rand(SIZE,SIZE)\n",
    "B = np.random.rand(SIZE,SIZE)\n",
    "\n",
    "# Try the naive way in Python\n",
    "start = timeit.default_timer()\n",
    "\n",
    "# --> Matrix multiplication in pure Python\n",
    "resultPurePython = np.zeros((SIZE,SIZE))\n",
    "for i in range(SIZE):\n",
    "  for j in range(SIZE):\n",
    "    for k in range(SIZE):\n",
    "      resultPurePython[i,k] += A[i,j]*B[j,k]\n",
    "\n",
    "time_spent = timeit.default_timer() - start\n",
    "print(time_spent)\n",
    "\n",
    "# Try using numpy\n",
    "start = timeit.default_timer()\n",
    "\n",
    "# --> Matrix multiplication in numpy\n",
    "resultNumPy = A.dot(B)\n",
    "\n",
    "time_spent = timeit.default_timer() - start\n",
    "print(time_spent)"
   ]
  },
  {
   "cell_type": "code",
   "execution_count": null,
   "metadata": {
    "collapsed": true
   },
   "outputs": [],
   "source": []
  }
 ],
 "metadata": {
  "kernelspec": {
   "display_name": "Python 3",
   "language": "python",
   "name": "python3"
  },
  "language_info": {
   "codemirror_mode": {
    "name": "ipython",
    "version": 3
   },
   "file_extension": ".py",
   "mimetype": "text/x-python",
   "name": "python",
   "nbconvert_exporter": "python",
   "pygments_lexer": "ipython3",
   "version": "3.6.3"
  }
 },
 "nbformat": 4,
 "nbformat_minor": 2
}
